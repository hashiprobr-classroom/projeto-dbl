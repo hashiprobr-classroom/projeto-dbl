{
 "cells": [
  {
   "cell_type": "markdown",
   "id": "118a1114-874f-4d58-8f28-c8ffa70c3d26",
   "metadata": {},
   "source": [
    "# Projeto Referências"
   ]
  },
  {
   "cell_type": "code",
   "execution_count": 20,
   "id": "15aa2641-b0de-4e45-aba8-764d69c65ce5",
   "metadata": {
    "execution": {
     "iopub.execute_input": "2025-03-26T03:30:04.736336Z",
     "iopub.status.busy": "2025-03-26T03:30:04.736133Z",
     "iopub.status.idle": "2025-03-26T03:30:04.740784Z",
     "shell.execute_reply": "2025-03-26T03:30:04.739929Z",
     "shell.execute_reply.started": "2025-03-26T03:30:04.736321Z"
    }
   },
   "outputs": [],
   "source": [
    "import graph_tool_extras as gte\n",
    "import pandas as pd\n",
    "import csv\n",
    "import ast\n",
    "from graph_tool import draw\n",
    "import netpixi\n",
    "\n",
    "PATH = '../Datasets/artigos.csv'\n",
    "MAX_LINES = 20000  \n"
   ]
  },
  {
   "cell_type": "code",
   "execution_count": 21,
   "id": "715b9d98-50c1-4522-956a-2650f8792a31",
   "metadata": {
    "execution": {
     "iopub.execute_input": "2025-03-26T03:30:05.342575Z",
     "iopub.status.busy": "2025-03-26T03:30:05.342250Z",
     "iopub.status.idle": "2025-03-26T03:30:05.952884Z",
     "shell.execute_reply": "2025-03-26T03:30:05.952186Z",
     "shell.execute_reply.started": "2025-03-26T03:30:05.342555Z"
    }
   },
   "outputs": [
    {
     "name": "stdout",
     "output_type": "stream",
     "text": [
      "Lidas 20000 linhas do CSV.\n",
      "Exemplo de 5 papers e suas referências:\n",
      "ID: 4ab3735c-80f1-472d-b953-fa0557fed28b - Refs: ['09cb2d7d-47d1-4a85-bfe5-faa8221e644b', '10aa16da-3cc8-4af6-9d66-48037e915d76', '35cb45c3-9408-4096-ab30-bc2e4de3fb5d', '661a342e-a911-4420-b67d-51c75d3b14e9', '779553f3-e4c1-456e-bc01-5eb9d9567541', 'b24ba5c0-fee8-4a3e-9330-17f6564856cd', 'fd1c676d-1296-4f19-89b4-17c7ecd270f3']\n",
      "ID: 4ab39729-af77-46f7-a662-16984fb9c1db - Refs: ['4017c9d2-9845-4ad2-ad5b-ba65523727c5', 'b1187381-cc24-471e-b288-5da09c3d4ca9', 'ecf8e7f0-cac6-47e4-9c29-f4241b0e1d7a']\n",
      "ID: 4ab3a4cf-1d96-4ce5-ab6f-b3e19fc260de - Refs: ['1c655ee2-067d-4bc4-b8cc-bc779e9a7f10', '2e4e57ca-d190-4bc7-b7ad-2e33aca2f574', '508ea83a-035b-4542-a315-9247c172d255', '666a65af-8657-43f6-b765-f2b72a16726a', '8100bfb7-3f6a-4269-bba8-7c4a6a578570', '8e035cc6-d692-4532-bb3c-a6a34b4db83a', 'e10a00d9-bb59-4f19-8f1c-85917bc03b5f']\n",
      "ID: 4ab3a98c-3620-47ec-b578-884ecf4a6206 - Refs: ['056116c1-9e7a-4f9b-a918-44eb199e67d6', '05ac52a1-dfa2-4c32-9a54-6c1e58cfcca5', '0b2f71cc-6797-445a-82df-5be29945c0a7', '60cf9842-c3aa-463d-a5cf-17fbb8f99ccd', '7a3bb575-8313-4e77-a008-ee5cde444746', '7eda9b91-21f1-490f-8ef2-f94e81c558a4', '905461e4-643b-4da0-a669-f52318b9e126', 'be336575-9974-411d-b637-45440213cbd4', 'be9527aa-97e2-4951-86d1-cc6130cbb777', 'f0d57def-3340-49be-a1c3-cbc996af8dec']\n",
      "ID: 4ab3b585-82b4-4207-91dd-b6bce7e27c4e - Refs: ['01a765b8-0cb3-495c-996f-29c36756b435', '5dbc8ccb-0014-4cb8-b720-e2a5b44b671d', '71ea2d72-eb37-409e-af69-04e50a01dc57', '79c988db-c749-4a4a-87a3-d56efc360ec8', '96da5fa5-ba62-49cc-a501-b17321433a08', 'b78483f4-dff7-4858-8eb2-287bc6c39012', 'e325951d-4375-4f15-b0cb-e0bd92e02008', 'ee0a0cc0-609b-4774-965c-4a8d38af8400', 'fc2571ef-0ad1-49bc-b91f-caf8de23adb0']\n"
     ]
    }
   ],
   "source": [
    "paper_refs_dict = {}\n",
    "\n",
    "with open(PATH, 'r', encoding='utf-8') as file:\n",
    "    reader = csv.reader(file)\n",
    "    header = next(reader)  \n",
    "\n",
    "    count = 0\n",
    "    for line in reader:\n",
    "        if count >= MAX_LINES:\n",
    "            break\n",
    "        \n",
    "        references_str = line[3]  # Coluna de referências\n",
    "        paper_id       = line[7]  # Coluna de ID\n",
    "\n",
    "\n",
    "        # Converter a string de referências em lista\n",
    "        try:\n",
    "            ref_list = ast.literal_eval(references_str)\n",
    "            if not isinstance(ref_list, list):\n",
    "                ref_list = []\n",
    "        except:\n",
    "            ref_list = []\n",
    "\n",
    "        paper_refs_dict[paper_id] = ref_list\n",
    "        \n",
    "        count += 1\n",
    "\n",
    "print(f\"Lidas {count} linhas do CSV.\")\n",
    "print(\"Exemplo de 5 papers e suas referências:\")\n",
    "i = 0\n",
    "for pid, refs in paper_refs_dict.items():\n",
    "    print(\"ID:\", pid, \"- Refs:\", refs)\n",
    "    i += 1\n",
    "    if i == 5:\n",
    "        break\n"
   ]
  },
  {
   "cell_type": "markdown",
   "id": "c5995826-0580-45ae-9e3c-7a99f6efbca4",
   "metadata": {},
   "source": [
    "## Construção do grafo"
   ]
  },
  {
   "cell_type": "markdown",
   "id": "a8920d83-c48e-465e-b0b1-23884e691d55",
   "metadata": {},
   "source": [
    "Para lembrar os detalhes sobre as bibliotecas e funções, reveja o terceiro notebook da Aula 3."
   ]
  },
  {
   "cell_type": "code",
   "execution_count": 22,
   "id": "2a34c6d8-99f4-48ec-b7ed-b90577630a20",
   "metadata": {
    "execution": {
     "iopub.execute_input": "2025-03-26T03:30:07.622300Z",
     "iopub.status.busy": "2025-03-26T03:30:07.622047Z",
     "iopub.status.idle": "2025-03-26T03:30:07.807818Z",
     "shell.execute_reply": "2025-03-26T03:30:07.807155Z",
     "shell.execute_reply.started": "2025-03-26T03:30:07.622281Z"
    }
   },
   "outputs": [
    {
     "name": "stdout",
     "output_type": "stream",
     "text": [
      "Vértices (papers): 20000\n",
      "Arestas (citações): 2463\n"
     ]
    }
   ],
   "source": [
    "g_citation = gte.Graph(directed=True)\n",
    "\n",
    "paper_ids = set(paper_refs_dict.keys())\n",
    "for pid in paper_ids:\n",
    "    g_citation.add_vertex_by_id(pid)\n",
    "\n",
    "for citing_paper, ref_list in paper_refs_dict.items():\n",
    "    for ref_id in ref_list:\n",
    "        if ref_id in paper_ids:\n",
    "            g_citation.add_edge_by_ids(citing_paper, ref_id)\n",
    "\n",
    "print(\"Vértices (papers):\", g_citation.num_vertices())\n",
    "print(\"Arestas (citações):\", g_citation.num_edges())\n"
   ]
  },
  {
   "cell_type": "code",
   "execution_count": 23,
   "id": "eeb465d8-e726-4b2f-8453-c10823153971",
   "metadata": {
    "execution": {
     "iopub.execute_input": "2025-03-26T03:30:08.849495Z",
     "iopub.status.busy": "2025-03-26T03:30:08.849124Z",
     "iopub.status.idle": "2025-03-26T03:30:43.476209Z",
     "shell.execute_reply": "2025-03-26T03:30:43.475636Z",
     "shell.execute_reply.started": "2025-03-26T03:30:08.849464Z"
    }
   },
   "outputs": [
    {
     "data": {
      "text/html": [
       "\n",
       "        <div id=\"m9Tu6Rb2g6nm2KgNFGw4cb\"></div>\n",
       "        <script>netpixi.render('m9Tu6Rb2g6nm2KgNFGw4cb', '/static/__shared__/Projeto/papers_citation_100.net.gz', 1.7777777777777777, true, true, false, true);</script>\n",
       "    "
      ],
      "text/plain": [
       "<IPython.core.display.HTML object>"
      ]
     },
     "metadata": {},
     "output_type": "display_data"
    },
    {
     "data": {
      "text/plain": [
       "<netpixi.Render at 0x7f2d71298ad0>"
      ]
     },
     "execution_count": 23,
     "metadata": {},
     "output_type": "execute_result"
    }
   ],
   "source": [
    "vsize = g_citation.new_vertex_property(\"double\")\n",
    "for v in g_citation.vertices():\n",
    "    vsize[v] = 5  \n",
    "g_citation.vertex_properties[\"size\"] = vsize\n",
    "\n",
    "epw = g_citation.new_edge_property(\"double\")\n",
    "for e in g_citation.edges():\n",
    "    epw[e] = 0.5  \n",
    "g_citation.edge_properties[\"penwidth\"] = epw\n",
    "\n",
    "layout_citation = draw.sfdp_layout(g_citation)\n",
    "gte.move(g_citation, layout_citation)\n",
    "\n",
    "gte.save(g_citation, 'papers_citation_100.net.gz')\n",
    "\n",
    "render_obj = netpixi.render('papers_citation_100.net.gz', infinite=True)\n",
    "render_obj\n"
   ]
  },
  {
   "cell_type": "code",
   "execution_count": 24,
   "id": "85b24624-8457-4e2b-8d86-4ffff4c60cec",
   "metadata": {
    "execution": {
     "iopub.execute_input": "2025-03-26T03:30:47.666807Z",
     "iopub.status.busy": "2025-03-26T03:30:47.666564Z",
     "iopub.status.idle": "2025-03-26T03:30:48.633198Z",
     "shell.execute_reply": "2025-03-26T03:30:48.632576Z",
     "shell.execute_reply.started": "2025-03-26T03:30:47.666789Z"
    },
    "scrolled": true
   },
   "outputs": [
    {
     "data": {
      "text/html": [
       "\n",
       "        <div id=\"Siu97DC2BQGZ4FFMgntaKA\"></div>\n",
       "        <script>netpixi.render('Siu97DC2BQGZ4FFMgntaKA', '/static/__shared__/Projeto/papers_citation_100.net.gz', 1.7777777777777777, true, true, false, true);</script>\n",
       "    "
      ],
      "text/plain": [
       "<IPython.core.display.HTML object>"
      ]
     },
     "metadata": {},
     "output_type": "display_data"
    },
    {
     "data": {
      "text/plain": [
       "<netpixi.Render at 0x7f2d71289b70>"
      ]
     },
     "execution_count": 24,
     "metadata": {},
     "output_type": "execute_result"
    }
   ],
   "source": [
    "g_citation = gte.clean(g_citation)\n",
    "\n",
    "vsize = g_citation.new_vertex_property(\"double\")\n",
    "for v in g_citation.vertices():\n",
    "    vsize[v] = 5  \n",
    "g_citation.vertex_properties[\"size\"] = vsize\n",
    "\n",
    "epw = g_citation.new_edge_property(\"double\")\n",
    "for e in g_citation.edges():\n",
    "    epw[e] = 0.5  \n",
    "g_citation.edge_properties[\"penwidth\"] = epw\n",
    "\n",
    "layout_citation = draw.sfdp_layout(g_citation)\n",
    "gte.move(g_citation, layout_citation)\n",
    "\n",
    "gte.save(g_citation, 'papers_citation_100.net.gz')\n",
    "netpixi.render('papers_citation_100.net.gz', infinite=True)\n"
   ]
  },
  {
   "cell_type": "code",
   "execution_count": 26,
   "id": "8e3f4518-0e46-45c7-9b29-3d7d1f354ea9",
   "metadata": {
    "execution": {
     "iopub.execute_input": "2025-03-26T03:31:18.290190Z",
     "iopub.status.busy": "2025-03-26T03:31:18.289628Z",
     "iopub.status.idle": "2025-03-26T03:31:19.024673Z",
     "shell.execute_reply": "2025-03-26T03:31:19.022946Z",
     "shell.execute_reply.started": "2025-03-26T03:31:18.290154Z"
    }
   },
   "outputs": [
    {
     "data": {
      "text/html": [
       "\n",
       "        <div id=\"25PYhNW47vi5pDpdKLLk89\"></div>\n",
       "        <script>netpixi.render('25PYhNW47vi5pDpdKLLk89', '/static/__shared__/Projeto/papers_citation_degree_manual.net.gz', 1.7777777777777777, true, true, false, true);</script>\n",
       "    "
      ],
      "text/plain": [
       "<IPython.core.display.HTML object>"
      ]
     },
     "metadata": {},
     "output_type": "display_data"
    },
    {
     "data": {
      "text/plain": [
       "<netpixi.Render at 0x7f2d532bae10>"
      ]
     },
     "execution_count": 26,
     "metadata": {},
     "output_type": "execute_result"
    }
   ],
   "source": [
    "import graph_tool.draw as draw\n",
    "import graph_tool_extras as gte\n",
    "import netpixi\n",
    "\n",
    "g_citation = gte.load('papers_citation_100.net.gz')\n",
    "\n",
    "size_prop = g_citation.new_vertex_property(\"double\")\n",
    "\n",
    "for v in g_citation.vertices():\n",
    "    deg = v.in_degree() + v.out_degree()\n",
    "    size_prop[v] = deg * 2 + 5  \n",
    "\n",
    "\n",
    "g_citation.vp[\"size\"] = size_prop\n",
    "\n",
    "\n",
    "layout_citation = draw.sfdp_layout(g_citation)\n",
    "gte.move(g_citation, layout_citation)\n",
    "\n",
    "\n",
    "gte.save(g_citation, 'papers_citation_degree_manual.net.gz')\n",
    "\n",
    "\n",
    "r = netpixi.render('papers_citation_degree_manual.net.gz', infinite=True)\n",
    "r\n"
   ]
  },
  {
   "cell_type": "code",
   "execution_count": 29,
   "id": "c98add88-7eb9-47fe-a31e-7125067d3510",
   "metadata": {
    "execution": {
     "iopub.execute_input": "2025-03-26T03:32:04.079141Z",
     "iopub.status.busy": "2025-03-26T03:32:04.078875Z",
     "iopub.status.idle": "2025-03-26T03:32:04.705284Z",
     "shell.execute_reply": "2025-03-26T03:32:04.704612Z",
     "shell.execute_reply.started": "2025-03-26T03:32:04.079122Z"
    }
   },
   "outputs": [
    {
     "data": {
      "text/html": [
       "\n",
       "        <div id=\"YuGDLcD6XSsD4tehLyS6VK\"></div>\n",
       "        <script>netpixi.render('YuGDLcD6XSsD4tehLyS6VK', '/static/__shared__/Projeto/papers_citation_betweenness.net.gz', 1.7777777777777777, true, true, false, true);</script>\n",
       "    "
      ],
      "text/plain": [
       "<IPython.core.display.HTML object>"
      ]
     },
     "metadata": {},
     "output_type": "display_data"
    },
    {
     "data": {
      "text/plain": [
       "<netpixi.Render at 0x7f2d5a1426d0>"
      ]
     },
     "execution_count": 29,
     "metadata": {},
     "output_type": "execute_result"
    }
   ],
   "source": [
    "\n",
    "from graph_tool.centrality import betweenness\n",
    "import graph_tool.draw as draw\n",
    "import graph_tool_extras as gte\n",
    "import netpixi\n",
    "\n",
    "\n",
    "g_citation = gte.load('papers_citation_100.net.gz')\n",
    "\n",
    "\n",
    "betw_map, _ = betweenness(g_citation)\n",
    "\n",
    "\n",
    "size_prop = g_citation.new_vertex_property(\"double\")\n",
    "\n",
    "for v in g_citation.vertices():\n",
    "    val = betw_map[v]\n",
    "\n",
    "    size_prop[v] = val * 1000000 + 5\n",
    "\n",
    "\n",
    "g_citation.vp[\"size\"] = size_prop\n",
    "\n",
    "\n",
    "layout_citation = draw.sfdp_layout(g_citation)\n",
    "gte.move(g_citation, layout_citation)\n",
    "\n",
    "\n",
    "gte.save(g_citation, 'papers_citation_betweenness.net.gz')\n",
    "r = netpixi.render('papers_citation_betweenness.net.gz', infinite=True)\n",
    "r\n"
   ]
  },
  {
   "cell_type": "code",
   "execution_count": 31,
   "id": "eec26048-7cfc-4506-abed-e09bd222cc89",
   "metadata": {
    "execution": {
     "iopub.execute_input": "2025-03-26T03:32:20.501690Z",
     "iopub.status.busy": "2025-03-26T03:32:20.501421Z",
     "iopub.status.idle": "2025-03-26T03:32:21.237641Z",
     "shell.execute_reply": "2025-03-26T03:32:21.236967Z",
     "shell.execute_reply.started": "2025-03-26T03:32:20.501671Z"
    }
   },
   "outputs": [
    {
     "data": {
      "text/html": [
       "\n",
       "        <div id=\"ki9CcZMQDHE6sgTijY7Zi5\"></div>\n",
       "        <script>netpixi.render('ki9CcZMQDHE6sgTijY7Zi5', '/static/__shared__/Projeto/papers_citation_closeness.net.gz', 1.7777777777777777, true, true, false, true);</script>\n",
       "    "
      ],
      "text/plain": [
       "<IPython.core.display.HTML object>"
      ]
     },
     "metadata": {},
     "output_type": "display_data"
    },
    {
     "data": {
      "text/plain": [
       "<netpixi.Render at 0x7f2d52a379d0>"
      ]
     },
     "execution_count": 31,
     "metadata": {},
     "output_type": "execute_result"
    }
   ],
   "source": [
    "from graph_tool.centrality import closeness\n",
    "import math\n",
    "import graph_tool.draw as draw\n",
    "import graph_tool_extras as gte\n",
    "import netpixi\n",
    "\n",
    "\n",
    "g_citation = gte.load('papers_citation_100.net.gz')\n",
    "\n",
    "\n",
    "clos_map = closeness(g_citation)\n",
    "\n",
    "\n",
    "size_prop = g_citation.new_vertex_property(\"double\")\n",
    "\n",
    "for v in g_citation.vertices():\n",
    "    val = clos_map[v]\n",
    "    if math.isinf(val) or math.isnan(val):\n",
    "        size_prop[v] = 5.0\n",
    "    else:\n",
    "        size_prop[v] = val * 20 + 5\n",
    "\n",
    "g_citation.vp[\"size\"] = size_prop\n",
    "\n",
    "layout_citation = draw.sfdp_layout(g_citation)\n",
    "gte.move(g_citation, layout_citation)\n",
    "\n",
    "gte.save(g_citation, 'papers_citation_closeness.net.gz')\n",
    "r = netpixi.render('papers_citation_closeness.net.gz', infinite=True)\n",
    "r\n"
   ]
  },
  {
   "cell_type": "code",
   "execution_count": 32,
   "id": "f7df1d7b-048e-4904-b3b4-f303d73a6e58",
   "metadata": {
    "execution": {
     "iopub.execute_input": "2025-03-26T03:32:21.289372Z",
     "iopub.status.busy": "2025-03-26T03:32:21.289165Z",
     "iopub.status.idle": "2025-03-26T03:32:22.157736Z",
     "shell.execute_reply": "2025-03-26T03:32:22.156999Z",
     "shell.execute_reply.started": "2025-03-26T03:32:21.289359Z"
    }
   },
   "outputs": [
    {
     "data": {
      "text/html": [
       "\n",
       "        <div id=\"44wY8xh5DsPbBDP7Wpoaet\"></div>\n",
       "        <script>netpixi.render('44wY8xh5DsPbBDP7Wpoaet', '/static/__shared__/Projeto/papers_citation_constraint.net.gz', 1.7777777777777777, true, true, false, true);</script>\n",
       "    "
      ],
      "text/plain": [
       "<IPython.core.display.HTML object>"
      ]
     },
     "metadata": {},
     "output_type": "display_data"
    },
    {
     "data": {
      "text/plain": [
       "<netpixi.Render at 0x7f2d58ff7f50>"
      ]
     },
     "execution_count": 32,
     "metadata": {},
     "output_type": "execute_result"
    }
   ],
   "source": [
    "\n",
    "import graph_tool.draw as draw\n",
    "import graph_tool_extras as gte\n",
    "import netpixi\n",
    "\n",
    "g_citation = gte.load(\"papers_citation_100.net.gz\")\n",
    "\n",
    "\n",
    "c_prop = gte.burt_constraint(g_citation)\n",
    "\n",
    "\n",
    "size_prop = g_citation.new_vertex_property(\"double\")\n",
    "\n",
    "for v in g_citation.vertices():\n",
    "    val = c_prop[v]\n",
    "    size_prop[v] = val * 8.0 + 10.0\n",
    "\n",
    "g_citation.vp[\"size\"] = size_prop\n",
    "\n",
    "\n",
    "layout_citation = draw.sfdp_layout(g_citation)\n",
    "gte.move(g_citation, layout_citation)\n",
    "\n",
    "\n",
    "gte.save(g_citation, \"papers_citation_constraint.net.gz\")\n",
    "\n",
    "\n",
    "r = netpixi.render(\"papers_citation_constraint.net.gz\", infinite=True)\n",
    "r\n"
   ]
  },
  {
   "cell_type": "code",
   "execution_count": 9,
   "id": "384d49ba-1f3c-4eae-9a8e-93f3c42f7546",
   "metadata": {
    "execution": {
     "iopub.execute_input": "2025-03-26T03:02:52.602858Z",
     "iopub.status.busy": "2025-03-26T03:02:52.602605Z",
     "iopub.status.idle": "2025-03-26T03:02:53.448185Z",
     "shell.execute_reply": "2025-03-26T03:02:53.447447Z",
     "shell.execute_reply.started": "2025-03-26T03:02:52.602840Z"
    }
   },
   "outputs": [
    {
     "data": {
      "text/html": [
       "\n",
       "        <div id=\"FA47nidYju4aPjK7dWg2xW\"></div>\n",
       "        <script>netpixi.render('FA47nidYju4aPjK7dWg2xW', '/static/__shared__/Projeto/papers_citation_coreness_continuo.net.gz', 1.7777777777777777, true, true, false, true);</script>\n",
       "    "
      ],
      "text/plain": [
       "<IPython.core.display.HTML object>"
      ]
     },
     "metadata": {},
     "output_type": "display_data"
    },
    {
     "data": {
      "text/plain": [
       "<netpixi.Render at 0x7f2d5b534c50>"
      ]
     },
     "execution_count": 9,
     "metadata": {},
     "output_type": "execute_result"
    }
   ],
   "source": [
    "\n",
    "\n",
    "import graph_tool.draw as draw\n",
    "import graph_tool_extras as gte\n",
    "import netpixi\n",
    "import cpnet\n",
    "\n",
    "\n",
    "g_citation = gte.load(\"papers_citation_100.net.gz\")\n",
    "\n",
    "\n",
    "coreness_map, level_map = gte.coreness(g_citation, cpnet.Rombach)\n",
    "\n",
    "size_prop = g_citation.new_vertex_property(\"double\")\n",
    "\n",
    "for v in g_citation.vertices():\n",
    "    val = coreness_map[v]  \n",
    "    size_prop[v] = val * 7.0 + 10.0\n",
    "\n",
    "g_citation.vp[\"size\"] = size_prop\n",
    "\n",
    "layout_citation = draw.sfdp_layout(g_citation)\n",
    "gte.move(g_citation, layout_citation)\n",
    "\n",
    "\n",
    "gte.save(g_citation, \"papers_citation_coreness_continuo.net.gz\")\n",
    "\n",
    "\n",
    "r = netpixi.render(\"papers_citation_coreness_continuo.net.gz\", infinite=True)\n",
    "r\n"
   ]
  },
  {
   "cell_type": "code",
   "execution_count": 10,
   "id": "45dec1db-0ef9-465c-b436-b8b3682c5669",
   "metadata": {
    "execution": {
     "iopub.execute_input": "2025-03-26T03:03:44.020106Z",
     "iopub.status.busy": "2025-03-26T03:03:44.019846Z",
     "iopub.status.idle": "2025-03-26T03:11:11.911797Z",
     "shell.execute_reply": "2025-03-26T03:11:11.911142Z",
     "shell.execute_reply.started": "2025-03-26T03:03:44.020090Z"
    }
   },
   "outputs": [
    {
     "name": "stderr",
     "output_type": "stream",
     "text": [
      "100%|██████████| 100/100 [07:21<00:00,  4.42s/it]\n"
     ]
    },
    {
     "data": {
      "text/html": [
       "\n",
       "        <div id=\"SiwGzmGrLU3KybtkapuSnS\"></div>\n",
       "        <script>netpixi.render('SiwGzmGrLU3KybtkapuSnS', '/static/__shared__/Projeto/papers_citation_coreness_discreto.net.gz', 1.7777777777777777, true, true, false, true);</script>\n",
       "    "
      ],
      "text/plain": [
       "<IPython.core.display.HTML object>"
      ]
     },
     "metadata": {},
     "output_type": "display_data"
    },
    {
     "data": {
      "text/plain": [
       "<netpixi.Render at 0x7f2e040ddf50>"
      ]
     },
     "execution_count": 10,
     "metadata": {},
     "output_type": "execute_result"
    }
   ],
   "source": [
    "import graph_tool.draw as draw\n",
    "import graph_tool_extras as gte\n",
    "import netpixi\n",
    "import cpnet\n",
    "\n",
    "\n",
    "g_citation = gte.load(\"papers_citation_100.net.gz\")\n",
    "\n",
    "\n",
    "c_map, level_map, prob_map = gte.coreness(g_citation, cpnet.BE, test=True)\n",
    "\n",
    "size_prop = g_citation.new_vertex_property(\"double\")\n",
    "\n",
    "for v in g_citation.vertices():\n",
    "    val = c_map[v] \n",
    "    size_prop[v] = val * 20.0 + 10.0\n",
    "\n",
    "g_citation.vp[\"size\"] = size_prop\n",
    "\n",
    "layout_citation = draw.sfdp_layout(g_citation)\n",
    "gte.move(g_citation, layout_citation)\n",
    "\n",
    "gte.save(g_citation, \"papers_citation_coreness_discreto.net.gz\")\n",
    "\n",
    "r = netpixi.render(\"papers_citation_coreness_discreto.net.gz\", infinite=True)\n",
    "r\n"
   ]
  },
  {
   "cell_type": "code",
   "execution_count": 35,
   "id": "8faa0e04-63ff-4e2d-98fb-fffaa0ed6143",
   "metadata": {
    "execution": {
     "iopub.execute_input": "2025-03-26T03:40:52.971561Z",
     "iopub.status.busy": "2025-03-26T03:40:52.970803Z",
     "iopub.status.idle": "2025-03-26T03:40:53.136835Z",
     "shell.execute_reply": "2025-03-26T03:40:53.136193Z",
     "shell.execute_reply.started": "2025-03-26T03:40:52.971526Z"
    }
   },
   "outputs": [
    {
     "name": "stdout",
     "output_type": "stream",
     "text": [
      "Min degree: 1\n",
      "Max degree: 61\n"
     ]
    },
    {
     "name": "stderr",
     "output_type": "stream",
     "text": [
      "Calculating best minimal value for power law fit\n",
      "'nan' in fit cumulative distribution values.\n",
      "Likely underflow or overflow error: the optimal fit for this distribution gives values that are so extreme that we lack the numerical precision to calculate them.\n",
      "Calculating best minimal value for power law fit\n"
     ]
    },
    {
     "data": {
      "text/plain": [
       "(np.True_, np.float64(0.006527117511852987))"
      ]
     },
     "execution_count": 35,
     "metadata": {},
     "output_type": "execute_result"
    },
    {
     "data": {
      "image/png": "[encoded data removed]",
      "text/plain": [
       "<Figure size 640x480 with 1 Axes>"
      ]
     },
     "metadata": {},
     "output_type": "display_data"
    }
   ],
   "source": [
    "import netpixi\n",
    "import graph_tool_extras as gte\n",
    "import distribution as dst\n",
    "import matplotlib.pyplot as plt\n",
    "import pandas as pd\n",
    "import numpy as np\n",
    "\n",
    "g = gte.load(\"papers_citation_100.net.gz\")\n",
    "g = gte.clean(g)\n",
    "\n",
    "degrees = g.get_total_degrees()\n",
    "print(\"Min degree:\", np.min(degrees))\n",
    "print(\"Max degree:\", np.max(degrees))\n",
    "degrees.hist()\n",
    "\n",
    "dst.not_normal(degrees)\n",
    "\n",
    "dst.more_powerlaw_than_lognormal(degrees)\n",
    "\n",
    "dst.more_powerlaw_than_exponential(degrees)\n",
    "\n"
   ]
  },
  {
   "cell_type": "code",
   "execution_count": 29,
   "id": "6e7c617e-101f-4240-b015-bbef2ea268fc",
   "metadata": {
    "execution": {
     "iopub.execute_input": "2025-03-25T20:46:08.140527Z",
     "iopub.status.busy": "2025-03-25T20:46:08.140158Z",
     "iopub.status.idle": "2025-03-25T20:46:09.290182Z",
     "shell.execute_reply": "2025-03-25T20:46:09.289149Z",
     "shell.execute_reply.started": "2025-03-25T20:46:08.140506Z"
    }
   },
   "outputs": [
    {
     "name": "stdout",
     "output_type": "stream",
     "text": [
      "Top 10 nós por grau:\n",
      "Paper ID: temp_124 - Grau: 61.0\n",
      "Paper ID: temp_366 - Grau: 40.0\n",
      "Paper ID: temp_406 - Grau: 35.0\n",
      "Paper ID: temp_73 - Grau: 19.0\n",
      "Paper ID: temp_132 - Grau: 16.0\n",
      "Paper ID: temp_352 - Grau: 15.0\n",
      "Paper ID: temp_196 - Grau: 14.0\n",
      "Paper ID: temp_391 - Grau: 13.0\n",
      "Paper ID: temp_365 - Grau: 11.0\n",
      "Paper ID: temp_393 - Grau: 10.0\n"
     ]
    },
    {
     "data": {
      "text/html": [
       "\n",
       "        <div id=\"BPbqVf83hSGcNnbJLaS4is\"></div>\n",
       "        <script>netpixi.render('BPbqVf83hSGcNnbJLaS4is', '/static/__shared__/Projeto/papers_citation_degree_withid.net.gz', 1.7777777777777777, true, true, false, true);</script>\n",
       "    "
      ],
      "text/plain": [
       "<IPython.core.display.HTML object>"
      ]
     },
     "metadata": {},
     "output_type": "display_data"
    },
    {
     "data": {
      "text/plain": [
       "<netpixi.Render at 0x7f0a9ef752e0>"
      ]
     },
     "execution_count": 29,
     "metadata": {},
     "output_type": "execute_result"
    }
   ],
   "source": [
    "import graph_tool_extras as gte\n",
    "import netpixi\n",
    "import graph_tool.draw as draw\n",
    "\n",
    "g_citation = gte.load('papers_citation_100.net.gz')\n",
    "\n",
    "if \"paper_id\" in g_citation.vp:\n",
    "    paper_id_prop = g_citation.vp[\"paper_id\"]\n",
    "else:\n",
    "\n",
    "    paper_id_prop = g_citation.new_vertex_property(\"string\")\n",
    "    for i, v in enumerate(g_citation.vertices()):\n",
    "        paper_id_prop[v] = f\"temp_{i}\"\n",
    "    g_citation.vp[\"paper_id\"] = paper_id_prop\n",
    "\n",
    "\n",
    "degree_prop = g_citation.new_vertex_property(\"double\")\n",
    "for v in g_citation.vertices():\n",
    "    degree_prop[v] = v.in_degree() + v.out_degree()\n",
    "\n",
    "\n",
    "g_citation.vp[\"degree\"] = degree_prop\n",
    "\n",
    "\n",
    "sorted_by_degree = sorted(g_citation.vertices(), \n",
    "                          key=lambda vert: degree_prop[vert],\n",
    "                          reverse=True)\n",
    "\n",
    "\n",
    "print(\"Top 10 nós por grau:\")\n",
    "for v in sorted_by_degree[:10]:\n",
    "    print(f\"Paper ID: {paper_id_prop[v]} - Grau: {degree_prop[v]}\")\n",
    "\n",
    "layout = draw.sfdp_layout(g_citation)\n",
    "gte.move(g_citation, layout)\n",
    "\n",
    "gte.save(g_citation, 'papers_citation_degree_withid.net.gz')\n",
    "r = netpixi.render('papers_citation_degree_withid.net.gz', infinite=True)\n",
    "r\n"
   ]
  },
  {
   "cell_type": "code",
   "execution_count": 37,
   "id": "60607695-24cc-4a4a-82db-928bb26dbe54",
   "metadata": {
    "execution": {
     "iopub.execute_input": "2025-03-26T03:59:54.816877Z",
     "iopub.status.busy": "2025-03-26T03:59:54.816548Z",
     "iopub.status.idle": "2025-03-26T04:00:13.043829Z",
     "shell.execute_reply": "2025-03-26T04:00:13.042663Z",
     "shell.execute_reply.started": "2025-03-26T03:59:54.816852Z"
    }
   },
   "outputs": [
    {
     "name": "stderr",
     "output_type": "stream",
     "text": [
      "  3%|▎         | 3/100 [00:13<07:15,  4.49s/it]\n"
     ]
    },
    {
     "ename": "KeyboardInterrupt",
     "evalue": "",
     "output_type": "error",
     "traceback": [
      "\u001b[0;31m---------------------------------------------------------------------------\u001b[0m",
      "\u001b[0;31mKeyboardInterrupt\u001b[0m                         Traceback (most recent call last)",
      "Cell \u001b[0;32mIn[37], line 37\u001b[0m\n\u001b[1;32m     29\u001b[0m clos_prop \u001b[38;5;241m=\u001b[39m closeness(g_citation)\n\u001b[1;32m     33\u001b[0m coreness_continuo, level_map_c \u001b[38;5;241m=\u001b[39m gte\u001b[38;5;241m.\u001b[39mcoreness(g_citation, cpnet\u001b[38;5;241m.\u001b[39mRombach)\n\u001b[0;32m---> 37\u001b[0m coreness_discreto, level_map_d, prob_map \u001b[38;5;241m=\u001b[39m \u001b[43mgte\u001b[49m\u001b[38;5;241;43m.\u001b[39;49m\u001b[43mcoreness\u001b[49m\u001b[43m(\u001b[49m\u001b[43mg_citation\u001b[49m\u001b[43m,\u001b[49m\u001b[43m \u001b[49m\u001b[43mcpnet\u001b[49m\u001b[38;5;241;43m.\u001b[39;49m\u001b[43mBE\u001b[49m\u001b[43m,\u001b[49m\u001b[43m \u001b[49m\u001b[43mtest\u001b[49m\u001b[38;5;241;43m=\u001b[39;49m\u001b[38;5;28;43;01mTrue\u001b[39;49;00m\u001b[43m)\u001b[49m\n\u001b[1;32m     38\u001b[0m p\n\u001b[1;32m     39\u001b[0m \u001b[38;5;28;01mdef\u001b[39;00m\u001b[38;5;250m \u001b[39m\u001b[38;5;21mtop5_sorted\u001b[39m(prop_map):\n",
      "File \u001b[0;32m/opt/jupyterlab/.hidden/graph_tool_extras/__init__.py:417\u001b[0m, in \u001b[0;36mcoreness\u001b[0;34m(g, Algorithm, weight, test)\u001b[0m\n\u001b[1;32m    414\u001b[0m     \u001b[38;5;28;01mfor\u001b[39;00m i, value \u001b[38;5;129;01min\u001b[39;00m nx_l\u001b[38;5;241m.\u001b[39mitems():\n\u001b[1;32m    415\u001b[0m         l[i] \u001b[38;5;241m=\u001b[39m value\n\u001b[0;32m--> 417\u001b[0m     _, _, _, p \u001b[38;5;241m=\u001b[39m \u001b[43mcpnet\u001b[49m\u001b[38;5;241;43m.\u001b[39;49m\u001b[43mqstest\u001b[49m\u001b[43m(\u001b[49m\u001b[43mnx_l\u001b[49m\u001b[43m,\u001b[49m\u001b[43m \u001b[49m\u001b[43mnx_c\u001b[49m\u001b[43m,\u001b[49m\u001b[43m \u001b[49m\u001b[43mnx_g\u001b[49m\u001b[43m,\u001b[49m\u001b[43m \u001b[49m\u001b[43malgorithm\u001b[49m\u001b[43m,\u001b[49m\u001b[43m \u001b[49m\u001b[43mnull_model\u001b[49m\u001b[38;5;241;43m=\u001b[39;49m\u001b[43mnull_model\u001b[49m\u001b[43m)\u001b[49m\n\u001b[1;32m    419\u001b[0m     \u001b[38;5;28;01mreturn\u001b[39;00m centrality, label, p\n\u001b[1;32m    421\u001b[0m algorithm\u001b[38;5;241m.\u001b[39mdetect(matrix)\n",
      "File \u001b[0;32m/opt/miniconda/envs/jupyterlab/lib/python3.13/site-packages/cpnet/qstest.py:109\u001b[0m, in \u001b[0;36mqstest\u001b[0;34m(pair_id, coreness, G, cpa, significance_level, null_model, sfunc, num_of_rand_net, q_tilde, s_tilde, **params)\u001b[0m\n\u001b[1;32m    107\u001b[0m results \u001b[38;5;241m=\u001b[39m []\n\u001b[1;32m    108\u001b[0m \u001b[38;5;28;01mfor\u001b[39;00m _ \u001b[38;5;129;01min\u001b[39;00m tqdm(\u001b[38;5;28mrange\u001b[39m(num_of_rand_net)):\n\u001b[0;32m--> 109\u001b[0m     results\u001b[38;5;241m+\u001b[39m\u001b[38;5;241m=\u001b[39m[\u001b[43msampling\u001b[49m\u001b[43m(\u001b[49m\u001b[43mG\u001b[49m\u001b[43m,\u001b[49m\u001b[43m \u001b[49m\u001b[43mcpa\u001b[49m\u001b[43m,\u001b[49m\u001b[43m \u001b[49m\u001b[43msfunc\u001b[49m\u001b[43m,\u001b[49m\u001b[43m \u001b[49m\u001b[43mnull_model\u001b[49m\u001b[43m)\u001b[49m]\n\u001b[1;32m    110\u001b[0m \u001b[38;5;28;01mif\u001b[39;00m \u001b[38;5;28misinstance\u001b[39m(results[\u001b[38;5;241m0\u001b[39m][\u001b[38;5;124m\"\u001b[39m\u001b[38;5;124mq\u001b[39m\u001b[38;5;124m\"\u001b[39m], \u001b[38;5;28mlist\u001b[39m):\n\u001b[1;32m    111\u001b[0m     q_tilde \u001b[38;5;241m=\u001b[39m np\u001b[38;5;241m.\u001b[39marray(\u001b[38;5;28msum\u001b[39m([res[\u001b[38;5;124m\"\u001b[39m\u001b[38;5;124mq\u001b[39m\u001b[38;5;124m\"\u001b[39m] \u001b[38;5;28;01mfor\u001b[39;00m res \u001b[38;5;129;01min\u001b[39;00m results], []))\n",
      "File \u001b[0;32m/opt/miniconda/envs/jupyterlab/lib/python3.13/site-packages/cpnet/qstest.py:36\u001b[0m, in \u001b[0;36msampling\u001b[0;34m(G, cpa, sfunc, null_model)\u001b[0m\n\u001b[1;32m     34\u001b[0m Gr \u001b[38;5;241m=\u001b[39m null_model(G)\n\u001b[1;32m     35\u001b[0m Ar \u001b[38;5;241m=\u001b[39m sparse\u001b[38;5;241m.\u001b[39mcsr_matrix(nx\u001b[38;5;241m.\u001b[39madjacency_matrix(Gr))\n\u001b[0;32m---> 36\u001b[0m \u001b[43mcpa\u001b[49m\u001b[38;5;241;43m.\u001b[39;49m\u001b[43mdetect\u001b[49m\u001b[43m(\u001b[49m\u001b[43mAr\u001b[49m\u001b[43m)\u001b[49m\n\u001b[1;32m     37\u001b[0m q_rand \u001b[38;5;241m=\u001b[39m cpa\u001b[38;5;241m.\u001b[39mqs_\n\u001b[1;32m     38\u001b[0m s_rand \u001b[38;5;241m=\u001b[39m sfunc(Ar, cpa\u001b[38;5;241m.\u001b[39mc_, cpa\u001b[38;5;241m.\u001b[39mx_)\n",
      "File \u001b[0;32m/opt/miniconda/envs/jupyterlab/lib/python3.13/site-packages/cpnet/BE.py:60\u001b[0m, in \u001b[0;36mBE.detect\u001b[0;34m(self, G)\u001b[0m\n\u001b[1;32m     57\u001b[0m     Q, qs \u001b[38;5;241m=\u001b[39m _score_(A_indptr, A_indices, A_data, cids, x, num_nodes)\n\u001b[1;32m     58\u001b[0m     \u001b[38;5;28;01mreturn\u001b[39;00m {\u001b[38;5;124m\"\u001b[39m\u001b[38;5;124mcids\u001b[39m\u001b[38;5;124m\"\u001b[39m: cids, \u001b[38;5;124m\"\u001b[39m\u001b[38;5;124mx\u001b[39m\u001b[38;5;124m\"\u001b[39m: x, \u001b[38;5;124m\"\u001b[39m\u001b[38;5;124mq\u001b[39m\u001b[38;5;124m\"\u001b[39m: Q}\n\u001b[0;32m---> 60\u001b[0m res \u001b[38;5;241m=\u001b[39m \u001b[43mParallel\u001b[49m\u001b[43m(\u001b[49m\u001b[43mn_jobs\u001b[49m\u001b[38;5;241;43m=\u001b[39;49m\u001b[38;5;28;43mself\u001b[39;49m\u001b[38;5;241;43m.\u001b[39;49m\u001b[43mn_jobs\u001b[49m\u001b[43m)\u001b[49m\u001b[43m(\u001b[49m\n\u001b[1;32m     61\u001b[0m \u001b[43m    \u001b[49m\u001b[43mdelayed\u001b[49m\u001b[43m(\u001b[49m\u001b[43m_detect\u001b[49m\u001b[43m)\u001b[49m\u001b[43m(\u001b[49m\u001b[43mA\u001b[49m\u001b[38;5;241;43m.\u001b[39;49m\u001b[43mindptr\u001b[49m\u001b[43m,\u001b[49m\u001b[43m \u001b[49m\u001b[43mA\u001b[49m\u001b[38;5;241;43m.\u001b[39;49m\u001b[43mindices\u001b[49m\u001b[43m,\u001b[49m\u001b[43m \u001b[49m\u001b[43mA\u001b[49m\u001b[38;5;241;43m.\u001b[39;49m\u001b[43mdata\u001b[49m\u001b[43m,\u001b[49m\u001b[43m \u001b[49m\u001b[43mA\u001b[49m\u001b[38;5;241;43m.\u001b[39;49m\u001b[43mshape\u001b[49m\u001b[43m[\u001b[49m\u001b[38;5;241;43m0\u001b[39;49m\u001b[43m]\u001b[49m\u001b[43m)\u001b[49m\n\u001b[1;32m     62\u001b[0m \u001b[43m    \u001b[49m\u001b[38;5;28;43;01mfor\u001b[39;49;00m\u001b[43m \u001b[49m\u001b[43mi\u001b[49m\u001b[43m \u001b[49m\u001b[38;5;129;43;01min\u001b[39;49;00m\u001b[43m \u001b[49m\u001b[38;5;28;43mrange\u001b[39;49m\u001b[43m(\u001b[49m\u001b[38;5;28;43mself\u001b[39;49m\u001b[38;5;241;43m.\u001b[39;49m\u001b[43mnum_runs\u001b[49m\u001b[43m)\u001b[49m\n\u001b[1;32m     63\u001b[0m \u001b[43m\u001b[49m\u001b[43m)\u001b[49m\n\u001b[1;32m     64\u001b[0m res \u001b[38;5;241m=\u001b[39m \u001b[38;5;28mmax\u001b[39m(res, key\u001b[38;5;241m=\u001b[39m\u001b[38;5;28;01mlambda\u001b[39;00m x: x[\u001b[38;5;124m\"\u001b[39m\u001b[38;5;124mq\u001b[39m\u001b[38;5;124m\"\u001b[39m])\n\u001b[1;32m     65\u001b[0m cids, x, Q \u001b[38;5;241m=\u001b[39m res[\u001b[38;5;124m\"\u001b[39m\u001b[38;5;124mcids\u001b[39m\u001b[38;5;124m\"\u001b[39m], res[\u001b[38;5;124m\"\u001b[39m\u001b[38;5;124mx\u001b[39m\u001b[38;5;124m\"\u001b[39m], res[\u001b[38;5;124m\"\u001b[39m\u001b[38;5;124mq\u001b[39m\u001b[38;5;124m\"\u001b[39m]\n",
      "File \u001b[0;32m/opt/miniconda/envs/jupyterlab/lib/python3.13/site-packages/joblib/parallel.py:1918\u001b[0m, in \u001b[0;36mParallel.__call__\u001b[0;34m(self, iterable)\u001b[0m\n\u001b[1;32m   1916\u001b[0m     output \u001b[38;5;241m=\u001b[39m \u001b[38;5;28mself\u001b[39m\u001b[38;5;241m.\u001b[39m_get_sequential_output(iterable)\n\u001b[1;32m   1917\u001b[0m     \u001b[38;5;28mnext\u001b[39m(output)\n\u001b[0;32m-> 1918\u001b[0m     \u001b[38;5;28;01mreturn\u001b[39;00m output \u001b[38;5;28;01mif\u001b[39;00m \u001b[38;5;28mself\u001b[39m\u001b[38;5;241m.\u001b[39mreturn_generator \u001b[38;5;28;01melse\u001b[39;00m \u001b[38;5;28;43mlist\u001b[39;49m\u001b[43m(\u001b[49m\u001b[43moutput\u001b[49m\u001b[43m)\u001b[49m\n\u001b[1;32m   1920\u001b[0m \u001b[38;5;66;03m# Let's create an ID that uniquely identifies the current call. If the\u001b[39;00m\n\u001b[1;32m   1921\u001b[0m \u001b[38;5;66;03m# call is interrupted early and that the same instance is immediately\u001b[39;00m\n\u001b[1;32m   1922\u001b[0m \u001b[38;5;66;03m# re-used, this id will be used to prevent workers that were\u001b[39;00m\n\u001b[1;32m   1923\u001b[0m \u001b[38;5;66;03m# concurrently finalizing a task from the previous call to run the\u001b[39;00m\n\u001b[1;32m   1924\u001b[0m \u001b[38;5;66;03m# callback.\u001b[39;00m\n\u001b[1;32m   1925\u001b[0m \u001b[38;5;28;01mwith\u001b[39;00m \u001b[38;5;28mself\u001b[39m\u001b[38;5;241m.\u001b[39m_lock:\n",
      "File \u001b[0;32m/opt/miniconda/envs/jupyterlab/lib/python3.13/site-packages/joblib/parallel.py:1847\u001b[0m, in \u001b[0;36mParallel._get_sequential_output\u001b[0;34m(self, iterable)\u001b[0m\n\u001b[1;32m   1845\u001b[0m \u001b[38;5;28mself\u001b[39m\u001b[38;5;241m.\u001b[39mn_dispatched_batches \u001b[38;5;241m+\u001b[39m\u001b[38;5;241m=\u001b[39m \u001b[38;5;241m1\u001b[39m\n\u001b[1;32m   1846\u001b[0m \u001b[38;5;28mself\u001b[39m\u001b[38;5;241m.\u001b[39mn_dispatched_tasks \u001b[38;5;241m+\u001b[39m\u001b[38;5;241m=\u001b[39m \u001b[38;5;241m1\u001b[39m\n\u001b[0;32m-> 1847\u001b[0m res \u001b[38;5;241m=\u001b[39m \u001b[43mfunc\u001b[49m\u001b[43m(\u001b[49m\u001b[38;5;241;43m*\u001b[39;49m\u001b[43margs\u001b[49m\u001b[43m,\u001b[49m\u001b[43m \u001b[49m\u001b[38;5;241;43m*\u001b[39;49m\u001b[38;5;241;43m*\u001b[39;49m\u001b[43mkwargs\u001b[49m\u001b[43m)\u001b[49m\n\u001b[1;32m   1848\u001b[0m \u001b[38;5;28mself\u001b[39m\u001b[38;5;241m.\u001b[39mn_completed_tasks \u001b[38;5;241m+\u001b[39m\u001b[38;5;241m=\u001b[39m \u001b[38;5;241m1\u001b[39m\n\u001b[1;32m   1849\u001b[0m \u001b[38;5;28mself\u001b[39m\u001b[38;5;241m.\u001b[39mprint_progress()\n",
      "File \u001b[0;32m/opt/miniconda/envs/jupyterlab/lib/python3.13/site-packages/cpnet/BE.py:54\u001b[0m, in \u001b[0;36mBE.detect.<locals>._detect\u001b[0;34m(A_indptr, A_indices, A_data, num_nodes)\u001b[0m\n\u001b[1;32m     53\u001b[0m \u001b[38;5;28;01mdef\u001b[39;00m\u001b[38;5;250m \u001b[39m\u001b[38;5;21m_detect\u001b[39m(A_indptr, A_indices, A_data, num_nodes):\n\u001b[0;32m---> 54\u001b[0m     x \u001b[38;5;241m=\u001b[39m \u001b[43m_kernighan_lin_\u001b[49m\u001b[43m(\u001b[49m\u001b[43mA_indptr\u001b[49m\u001b[43m,\u001b[49m\u001b[43m \u001b[49m\u001b[43mA_indices\u001b[49m\u001b[43m,\u001b[49m\u001b[43m \u001b[49m\u001b[43mA_data\u001b[49m\u001b[43m,\u001b[49m\u001b[43m \u001b[49m\u001b[43mnum_nodes\u001b[49m\u001b[43m)\u001b[49m\n\u001b[1;32m     55\u001b[0m     x \u001b[38;5;241m=\u001b[39m x\u001b[38;5;241m.\u001b[39mastype(\u001b[38;5;28mint\u001b[39m)\n\u001b[1;32m     56\u001b[0m     cids \u001b[38;5;241m=\u001b[39m np\u001b[38;5;241m.\u001b[39mzeros(num_nodes)\u001b[38;5;241m.\u001b[39mastype(\u001b[38;5;28mint\u001b[39m)\n",
      "File \u001b[0;32m/opt/miniconda/envs/jupyterlab/lib/python3.13/site-packages/numba/core/serialize.py:30\u001b[0m, in \u001b[0;36m_numba_unpickle\u001b[0;34m(address, bytedata, hashed)\u001b[0m\n\u001b[1;32m     26\u001b[0m \u001b[38;5;66;03m# Keep unpickled object via `numba_unpickle` alive.\u001b[39;00m\n\u001b[1;32m     27\u001b[0m _unpickled_memo \u001b[38;5;241m=\u001b[39m {}\n\u001b[0;32m---> 30\u001b[0m \u001b[38;5;28;01mdef\u001b[39;00m\u001b[38;5;250m \u001b[39m\u001b[38;5;21m_numba_unpickle\u001b[39m(address, bytedata, hashed):\n\u001b[1;32m     31\u001b[0m \u001b[38;5;250m    \u001b[39m\u001b[38;5;124;03m\"\"\"Used by `numba_unpickle` from _helperlib.c\u001b[39;00m\n\u001b[1;32m     32\u001b[0m \n\u001b[1;32m     33\u001b[0m \u001b[38;5;124;03m    Parameters\u001b[39;00m\n\u001b[0;32m   (...)\u001b[0m\n\u001b[1;32m     42\u001b[0m \u001b[38;5;124;03m        unpickled object\u001b[39;00m\n\u001b[1;32m     43\u001b[0m \u001b[38;5;124;03m    \"\"\"\u001b[39;00m\n\u001b[1;32m     44\u001b[0m     key \u001b[38;5;241m=\u001b[39m (address, hashed)\n",
      "\u001b[0;31mKeyboardInterrupt\u001b[0m: "
     ]
    }
   ],
   "source": [
    "import graph_tool_extras as gte\n",
    "import graph_tool.draw as draw\n",
    "import netpixi\n",
    "from graph_tool.centrality import betweenness, closeness\n",
    "import cpnet  \n",
    "\n",
    "\n",
    "g_citation = gte.load('papers_citation_100.net.gz')\n",
    "\n",
    "\n",
    "if \"paper_id\" in g_citation.vp:\n",
    "    paper_id_prop = g_citation.vp[\"paper_id\"]\n",
    "else:\n",
    "    paper_id_prop = g_citation.new_vertex_property(\"string\")\n",
    "    for i, v in enumerate(g_citation.vertices()):\n",
    "        paper_id_prop[v] = f\"temp_{i}\"\n",
    "    g_citation.vp[\"paper_id\"] = paper_id_prop\n",
    "\n",
    "\n",
    "\n",
    "degree_prop = g_citation.new_vertex_property(\"double\")\n",
    "for v in g_citation.vertices():\n",
    "    degree_prop[v] = v.in_degree() + v.out_degree()\n",
    "\n",
    "\n",
    "betw_prop, _ = betweenness(g_citation)\n",
    "\n",
    "\n",
    "clos_prop = closeness(g_citation)\n",
    "\n",
    "\n",
    "\n",
    "coreness_continuo, level_map_c = gte.coreness(g_citation, cpnet.Rombach)\n",
    "\n",
    "\n",
    "\n",
    "coreness_discreto, level_map_d, prob_map = gte.coreness(g_citation, cpnet.BE, test=True)\n",
    "p\n",
    "def top5_sorted(prop_map):\n",
    "    \"\"\"Retorna os vértices ordenados decrescentemente de acordo com prop_map\"\"\"\n",
    "    return sorted(g_citation.vertices(), key=lambda v: prop_map[v], reverse=True)[:5]\n",
    "\n",
    "\n",
    "top5_deg = top5_sorted(degree_prop)\n",
    "top5_betw = top5_sorted(betw_prop)\n",
    "top5_clos = top5_sorted(clos_prop)\n",
    "top5_continuo = top5_sorted(coreness_continuo)\n",
    "top5_discreto = top5_sorted(coreness_discreto)\n",
    "\n",
    "\n",
    "print(\"Top 5 por Degree:\")\n",
    "for v in top5_deg:\n",
    "    print(f\" {paper_id_prop[v]}  (degree={degree_prop[v]})\")\n",
    "\n",
    "print(\"\\nTop 5 por Betweenness:\")\n",
    "for v in top5_betw:\n",
    "    print(f\" {paper_id_prop[v]}  (betw={betw_prop[v]})\")\n",
    "\n",
    "print(\"\\nTop 5 por Closeness:\")\n",
    "for v in top5_clos:\n",
    "    print(f\" {paper_id_prop[v]}  (clos={clos_prop[v]})\")\n",
    "\n",
    "print(\"\\nTop 5 por Centro–Periferia Contínuo (Rombach):\")\n",
    "for v in top5_continuo:\n",
    "    print(f\" {paper_id_prop[v]}  (coreness_continuo={coreness_continuo[v]})\")\n",
    "\n",
    "print(\"\\nTop 5 por Centro–Periferia Discreto (BE):\")\n",
    "for v in top5_discreto:\n",
    "    print(f\" {paper_id_prop[v]}  (coreness_discreto={coreness_discreto[v]})\")\n",
    "\n",
    "\n",
    "deg_ids = {paper_id_prop[v] for v in top5_deg}\n",
    "betw_ids = {paper_id_prop[v] for v in top5_betw}\n",
    "clos_ids = {paper_id_prop[v] for v in top5_clos}\n",
    "cont_ids = {paper_id_prop[v] for v in top5_continuo}\n",
    "disc_ids = {paper_id_prop[v] for v in top5_discreto}\n",
    "\n",
    "common_any = deg_ids & betw_ids & clos_ids & cont_ids\n",
    "print(\"\\nAparecem no TOP 5 de (Degree, Betweenness, Closeness, Coreness Contínuo):\", common_any)\n"
   ]
  },
  {
   "cell_type": "code",
   "execution_count": 38,
   "id": "6257f211-e10f-4913-b401-b88ecdc345f7",
   "metadata": {
    "execution": {
     "iopub.execute_input": "2025-03-26T04:00:17.297013Z",
     "iopub.status.busy": "2025-03-26T04:00:17.296680Z",
     "iopub.status.idle": "2025-03-26T04:00:17.331427Z",
     "shell.execute_reply": "2025-03-26T04:00:17.330683Z",
     "shell.execute_reply.started": "2025-03-26T04:00:17.296994Z"
    }
   },
   "outputs": [
    {
     "name": "stdout",
     "output_type": "stream",
     "text": [
      "Top 10 vértices com maior betweenness (possíveis pontes):\n",
      "Vértice 182 -- betw: 9.181586745127498e-05\n",
      "Vértice 342 -- betw: 7.512207336922499e-05\n",
      "Vértice 346 -- betw: 7.094862484871248e-05\n",
      "Vértice 453 -- betw: 4.1734485205125e-05\n",
      "Vértice 151 -- betw: 3.3387588164099995e-05\n",
      "Vértice 91 -- betw: 2.9214139643587494e-05\n",
      "Vértice 139 -- betw: 2.7127415383331247e-05\n",
      "Vértice 209 -- betw: 2.5040691123074996e-05\n",
      "Vértice 262 -- betw: 2.5040691123074996e-05\n",
      "Vértice 308 -- betw: 2.5040691123074996e-05\n"
     ]
    }
   ],
   "source": [
    "import graph_tool_extras as gte\n",
    "from graph_tool.centrality import betweenness\n",
    "\n",
    "g_citation = gte.load('papers_citation_100.net.gz')\n",
    "\n",
    "\n",
    "betw_map, _ = betweenness(g_citation)\n",
    "\n",
    "sorted_by_betw = sorted(g_citation.vertices(), key=lambda v: betw_map[v], reverse=True)\n",
    "\n",
    "print(\"Top 10 vértices com maior betweenness (possíveis pontes):\")\n",
    "for v in sorted_by_betw[:10]:\n",
    "    print(f\"Vértice {int(v)} -- betw: {betw_map[v]}\")  \n",
    "\n"
   ]
  },
  {
   "cell_type": "code",
   "execution_count": 39,
   "id": "4aab104d-e7ac-4963-8b3d-48f05684c8de",
   "metadata": {
    "execution": {
     "iopub.execute_input": "2025-03-26T04:00:30.618643Z",
     "iopub.status.busy": "2025-03-26T04:00:30.618284Z",
     "iopub.status.idle": "2025-03-26T04:07:50.129372Z",
     "shell.execute_reply": "2025-03-26T04:07:50.128672Z",
     "shell.execute_reply.started": "2025-03-26T04:00:30.618617Z"
    }
   },
   "outputs": [
    {
     "name": "stderr",
     "output_type": "stream",
     "text": [
      "100%|██████████| 100/100 [07:14<00:00,  4.35s/it]\n"
     ]
    },
    {
     "name": "stdout",
     "output_type": "stream",
     "text": [
      "=== Centro-Periferia Contínuo (Rombach) ===\n",
      "Mínimo: 0.0\n",
      "Máximo: 0.9974747474747475\n",
      "Média: 0.27469450101832993\n",
      "Mediana: 0.15625\n",
      "Desvio Padrão: 0.308335910781409\n",
      "\n",
      "=== Centro-Periferia Discreto (BE) ===\n",
      "Mínimo: 0.0\n",
      "Máximo: 1.0\n",
      "Média: 0.006109979633401222\n",
      "Mediana: 0.0\n",
      "Desvio Padrão: 0.0779271953959633\n"
     ]
    },
    {
     "data": {
      "image/png": "[encoded data removed]",
      "text/plain": [
       "<Figure size 1200x500 with 2 Axes>"
      ]
     },
     "metadata": {},
     "output_type": "display_data"
    },
    {
     "name": "stdout",
     "output_type": "stream",
     "text": [
      "\n",
      "Top 5 nós - Centro-Periferia Contínuo (Rombach):\n",
      "Vértice 286: coreness_cont = 0.9974747474747475\n",
      "Vértice 379: coreness_cont = 0.9949494949494949\n",
      "Vértice 356: coreness_cont = 0.9924242424242424\n",
      "Vértice 86: coreness_cont = 0.9898989898989898\n",
      "Vértice 375: coreness_cont = 0.9873737373737373\n",
      "\n",
      "Top 5 nós - Centro-Periferia Discreto (BE):\n",
      "Vértice 286: coreness_disc = 1.0\n",
      "Vértice 356: coreness_disc = 1.0\n",
      "Vértice 379: coreness_disc = 1.0\n",
      "Vértice 0: coreness_disc = 0.0\n",
      "Vértice 1: coreness_disc = 0.0\n"
     ]
    }
   ],
   "source": [
    "import graph_tool_extras as gte\n",
    "import cpnet\n",
    "import matplotlib.pyplot as plt\n",
    "import numpy as np\n",
    "import pandas as pd\n",
    "\n",
    "g = gte.load('papers_citation_100.net.gz')\n",
    "\n",
    "coreness_cont, level_map_cont = gte.coreness(g, cpnet.Rombach)\n",
    "coreness_disc, level_map_disc, prob_map = gte.coreness(g, cpnet.BE, test=True)\n",
    "\n",
    "coreness_cont_values = np.array([coreness_cont[v] for v in g.vertices()])\n",
    "coreness_disc_values = np.array([coreness_disc[v] for v in g.vertices()])\n",
    "\n",
    "print(\"=== Centro-Periferia Contínuo (Rombach) ===\")\n",
    "print(\"Mínimo:\", np.min(coreness_cont_values))\n",
    "print(\"Máximo:\", np.max(coreness_cont_values))\n",
    "print(\"Média:\", np.mean(coreness_cont_values))\n",
    "print(\"Mediana:\", np.median(coreness_cont_values))\n",
    "print(\"Desvio Padrão:\", np.std(coreness_cont_values))\n",
    "\n",
    "print(\"\\n=== Centro-Periferia Discreto (BE) ===\")\n",
    "print(\"Mínimo:\", np.min(coreness_disc_values))\n",
    "print(\"Máximo:\", np.max(coreness_disc_values))\n",
    "print(\"Média:\", np.mean(coreness_disc_values))\n",
    "print(\"Mediana:\", np.median(coreness_disc_values))\n",
    "print(\"Desvio Padrão:\", np.std(coreness_disc_values))\n",
    "\n",
    "plt.figure(figsize=(12, 5))\n",
    "\n",
    "plt.subplot(1, 2, 1)\n",
    "plt.hist(coreness_cont_values, bins=30, color='blue', alpha=0.7)\n",
    "plt.title(\"Histograma - Coreness Contínuo (Rombach)\")\n",
    "plt.xlabel(\"Valor de Coreness Contínuo\")\n",
    "plt.ylabel(\"Frequência\")\n",
    "\n",
    "plt.subplot(1, 2, 2)\n",
    "bins_disc = range(int(np.min(coreness_disc_values)), int(np.max(coreness_disc_values)) + 2)\n",
    "plt.hist(coreness_disc_values, bins=bins_disc, color='green', alpha=0.7)\n",
    "plt.title(\"Histograma - Coreness Discreto (BE)\")\n",
    "plt.xlabel(\"Valor de Coreness Discreto\")\n",
    "plt.ylabel(\"Frequência\")\n",
    "\n",
    "plt.tight_layout()\n",
    "plt.show()\n",
    "\n",
    "def top5_sorted(prop_map):\n",
    "    return sorted(g.vertices(), key=lambda v: prop_map[v], reverse=True)[:5]\n",
    "\n",
    "top5_cont = top5_sorted(coreness_cont)\n",
    "top5_disc = top5_sorted(coreness_disc)\n",
    "\n",
    "print(\"\\nTop 5 nós - Centro-Periferia Contínuo (Rombach):\")\n",
    "for v in top5_cont:\n",
    "    print(f\"Vértice {int(v)}: coreness_cont = {coreness_cont[v]}\")\n",
    "\n",
    "print(\"\\nTop 5 nós - Centro-Periferia Discreto (BE):\")\n",
    "for v in top5_disc:\n",
    "    print(f\"Vértice {int(v)}: coreness_disc = {coreness_disc[v]}\")\n"
   ]
  },
  {
   "cell_type": "code",
   "execution_count": null,
   "id": "6e91ac72-d282-42b5-97e5-66641c89b907",
   "metadata": {},
   "outputs": [],
   "source": []
  }
 ],
 "metadata": {
  "kernelspec": {
   "display_name": "Python 3 (ipykernel)",
   "language": "python",
   "name": "python3"
  },
  "language_info": {
   "codemirror_mode": {
    "name": "ipython",
    "version": 3
   },
   "file_extension": ".py",
   "mimetype": "text/x-python",
   "name": "python",
   "nbconvert_exporter": "python",
   "pygments_lexer": "ipython3",
   "version": "3.13.1"
  }
 },
 "nbformat": 4,
 "nbformat_minor": 5
}
