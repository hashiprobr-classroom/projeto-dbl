{
 "cells": [
  {
   "cell_type": "markdown",
   "id": "118a1114-874f-4d58-8f28-c8ffa70c3d26",
   "metadata": {},
   "source": [
    "# Contra-Exemplo 1"
   ]
  },
  {
   "cell_type": "code",
   "execution_count": null,
   "id": "15aa2641-b0de-4e45-aba8-764d69c65ce5",
   "metadata": {
    "execution": {
     "iopub.execute_input": "2025-03-25T20:40:38.926490Z",
     "iopub.status.busy": "2025-03-25T20:40:38.925884Z",
     "iopub.status.idle": "2025-03-25T20:40:38.932322Z",
     "shell.execute_reply": "2025-03-25T20:40:38.931322Z",
     "shell.execute_reply.started": "2025-03-25T20:40:38.926452Z"
    }
   },
   "outputs": [],
   "source": [
    "import graph_tool_extras as gte\n",
    "import pandas as pd\n",
    "import csv\n",
    "import ast\n",
    "from graph_tool import draw\n",
    "import netpixi\n",
    "\n",
    "\n",
    "PATH = '../Datasets/artigos.csv'\n",
    "MAX_LINES = 20000  \n"
   ]
  },
  {
   "cell_type": "markdown",
   "id": "be84c837-0928-4d04-960e-06362ccc9360",
   "metadata": {},
   "source": [
    "Você **PODE** usar este notebook como referência para escrever seu próprio código, mas **NÃO PODE** usar uma proposta de rede que seja igual ou análoga."
   ]
  },
  {
   "cell_type": "markdown",
   "id": "f03f43c5-fb24-4a55-96a4-f18471c63aa5",
   "metadata": {},
   "source": [
    "## Dados"
   ]
  },
  {
   "cell_type": "markdown",
   "id": "d597472b-884c-40c7-8751-9302a57b2cd4",
   "metadata": {},
   "source": [
    "[Most Streamed Spotify Songs 2023](https://www.kaggle.com/datasets/nelgiriyewithana/top-spotify-songs-2023)"
   ]
  },
  {
   "cell_type": "code",
   "execution_count": 16,
   "id": "113e55fa-d6cd-44e3-ba05-e0c06dfbb966",
   "metadata": {
    "execution": {
     "iopub.execute_input": "2025-03-25T20:40:41.495039Z",
     "iopub.status.busy": "2025-03-25T20:40:41.494681Z",
     "iopub.status.idle": "2025-03-25T20:40:41.500793Z",
     "shell.execute_reply": "2025-03-25T20:40:41.499277Z",
     "shell.execute_reply.started": "2025-03-25T20:40:41.495014Z"
    }
   },
   "outputs": [],
   "source": [
    "PATH = '../Datasets/artigos.csv'"
   ]
  },
  {
   "cell_type": "markdown",
   "id": "19c5a034-a11f-40d5-aa91-3d6a532e7dc8",
   "metadata": {},
   "source": [
    "## Por que não usar estes dados?"
   ]
  },
  {
   "cell_type": "markdown",
   "id": "b519f1a3-593a-484b-abc9-a4184712284c",
   "metadata": {},
   "source": [
    "O uso de dados do Spotify já está muito batido, tanto na ciência dos dados em geral quanto na própria disciplina. Além disso, sabemos por experiência que há muitas possibilidades de direção sem potencial para o projeto."
   ]
  },
  {
   "cell_type": "markdown",
   "id": "479dccf8-3ecc-434c-a2a3-5678328fc256",
   "metadata": {},
   "source": [
    "## Por que não usar uma proposta igual ou análoga a esta?"
   ]
  },
  {
   "cell_type": "markdown",
   "id": "2a7e5a2f-a0a6-4046-9c08-42cd0c35f459",
   "metadata": {},
   "source": [
    "As arestas são baseadas simplesmente em similaridade de atributos, sem uma definição clara de estado ou evento relacional."
   ]
  },
  {
   "cell_type": "markdown",
   "id": "efa3f118-e7f3-451e-b429-14c567a9025f",
   "metadata": {},
   "source": [
    "## Leitura dos dados em disco"
   ]
  },
  {
   "cell_type": "markdown",
   "id": "31c540be-6dc2-438c-8581-d95006602bd9",
   "metadata": {},
   "source": [
    "Para lembrar os detalhes sobre as bibliotecas e funções, reveja o terceiro notebook da Aula 3."
   ]
  },
  {
   "cell_type": "code",
   "execution_count": null,
   "id": "715b9d98-50c1-4522-956a-2650f8792a31",
   "metadata": {
    "execution": {
     "iopub.execute_input": "2025-03-25T20:40:44.867073Z",
     "iopub.status.busy": "2025-03-25T20:40:44.866750Z",
     "iopub.status.idle": "2025-03-25T20:40:45.937938Z",
     "shell.execute_reply": "2025-03-25T20:40:45.936489Z",
     "shell.execute_reply.started": "2025-03-25T20:40:44.867053Z"
    }
   },
   "outputs": [
    {
     "name": "stdout",
     "output_type": "stream",
     "text": [
      "Lidas 20000 linhas do CSV.\n",
      "Exemplo de 5 papers e suas referências:\n",
      "ID: 4ab3735c-80f1-472d-b953-fa0557fed28b - Refs: ['09cb2d7d-47d1-4a85-bfe5-faa8221e644b', '10aa16da-3cc8-4af6-9d66-48037e915d76', '35cb45c3-9408-4096-ab30-bc2e4de3fb5d', '661a342e-a911-4420-b67d-51c75d3b14e9', '779553f3-e4c1-456e-bc01-5eb9d9567541', 'b24ba5c0-fee8-4a3e-9330-17f6564856cd', 'fd1c676d-1296-4f19-89b4-17c7ecd270f3']\n",
      "ID: 4ab39729-af77-46f7-a662-16984fb9c1db - Refs: ['4017c9d2-9845-4ad2-ad5b-ba65523727c5', 'b1187381-cc24-471e-b288-5da09c3d4ca9', 'ecf8e7f0-cac6-47e4-9c29-f4241b0e1d7a']\n",
      "ID: 4ab3a4cf-1d96-4ce5-ab6f-b3e19fc260de - Refs: ['1c655ee2-067d-4bc4-b8cc-bc779e9a7f10', '2e4e57ca-d190-4bc7-b7ad-2e33aca2f574', '508ea83a-035b-4542-a315-9247c172d255', '666a65af-8657-43f6-b765-f2b72a16726a', '8100bfb7-3f6a-4269-bba8-7c4a6a578570', '8e035cc6-d692-4532-bb3c-a6a34b4db83a', 'e10a00d9-bb59-4f19-8f1c-85917bc03b5f']\n",
      "ID: 4ab3a98c-3620-47ec-b578-884ecf4a6206 - Refs: ['056116c1-9e7a-4f9b-a918-44eb199e67d6', '05ac52a1-dfa2-4c32-9a54-6c1e58cfcca5', '0b2f71cc-6797-445a-82df-5be29945c0a7', '60cf9842-c3aa-463d-a5cf-17fbb8f99ccd', '7a3bb575-8313-4e77-a008-ee5cde444746', '7eda9b91-21f1-490f-8ef2-f94e81c558a4', '905461e4-643b-4da0-a669-f52318b9e126', 'be336575-9974-411d-b637-45440213cbd4', 'be9527aa-97e2-4951-86d1-cc6130cbb777', 'f0d57def-3340-49be-a1c3-cbc996af8dec']\n",
      "ID: 4ab3b585-82b4-4207-91dd-b6bce7e27c4e - Refs: ['01a765b8-0cb3-495c-996f-29c36756b435', '5dbc8ccb-0014-4cb8-b720-e2a5b44b671d', '71ea2d72-eb37-409e-af69-04e50a01dc57', '79c988db-c749-4a4a-87a3-d56efc360ec8', '96da5fa5-ba62-49cc-a501-b17321433a08', 'b78483f4-dff7-4858-8eb2-287bc6c39012', 'e325951d-4375-4f15-b0cb-e0bd92e02008', 'ee0a0cc0-609b-4774-965c-4a8d38af8400', 'fc2571ef-0ad1-49bc-b91f-caf8de23adb0']\n"
     ]
    }
   ],
   "source": [
    "paper_refs_dict = {}\n",
    "\n",
    "with open(PATH, 'r', encoding='utf-8') as file:\n",
    "    reader = csv.reader(file)\n",
    "    header = next(reader)  \n",
    "\n",
    "    count = 0\n",
    "    for line in reader:\n",
    "        if count >= MAX_LINES:\n",
    "            break\n",
    "        \n",
    "        references_str = line[3]  # referências\n",
    "        paper_id       = line[7]  # ID\n",
    "\n",
    "        try:\n",
    "            ref_list = ast.literal_eval(references_str)\n",
    "            if not isinstance(ref_list, list):\n",
    "                ref_list = []\n",
    "        except:\n",
    "            ref_list = []\n",
    "\n",
    "        paper_refs_dict[paper_id] = ref_list\n",
    "        \n",
    "        count += 1\n",
    "\n",
    "print(f\"Lidas {count} linhas do CSV.\")\n",
    "print(\"Exemplo de 5 papers e suas referências:\")\n",
    "i = 0\n",
    "for pid, refs in paper_refs_dict.items():\n",
    "    print(\"ID:\", pid, \"- Refs:\", refs)\n",
    "    i += 1\n",
    "    if i == 5:\n",
    "        break\n"
   ]
  },
  {
   "cell_type": "markdown",
   "id": "c5995826-0580-45ae-9e3c-7a99f6efbca4",
   "metadata": {},
   "source": [
    "## Construção do grafo"
   ]
  },
  {
   "cell_type": "markdown",
   "id": "a8920d83-c48e-465e-b0b1-23884e691d55",
   "metadata": {},
   "source": [
    "Para lembrar os detalhes sobre as bibliotecas e funções, reveja o terceiro notebook da Aula 3."
   ]
  },
  {
   "cell_type": "code",
   "execution_count": null,
   "id": "2a34c6d8-99f4-48ec-b7ed-b90577630a20",
   "metadata": {
    "execution": {
     "iopub.execute_input": "2025-03-25T20:40:47.284588Z",
     "iopub.status.busy": "2025-03-25T20:40:47.284246Z",
     "iopub.status.idle": "2025-03-25T20:40:47.560146Z",
     "shell.execute_reply": "2025-03-25T20:40:47.559294Z",
     "shell.execute_reply.started": "2025-03-25T20:40:47.284567Z"
    }
   },
   "outputs": [
    {
     "name": "stdout",
     "output_type": "stream",
     "text": [
      "Vértices (papers): 20000\n",
      "Arestas (citações): 2463\n"
     ]
    }
   ],
   "source": [
    "g_citation = gte.Graph(directed=True)\n",
    "\n",
    "paper_ids = set(paper_refs_dict.keys())\n",
    "for pid in paper_ids:\n",
    "    g_citation.add_vertex_by_id(pid)\n",
    "\n",
    "for citing_paper, ref_list in paper_refs_dict.items():\n",
    "    for ref_id in ref_list:\n",
    "        if ref_id in paper_ids:\n",
    "            g_citation.add_edge_by_ids(citing_paper, ref_id)\n",
    "\n",
    "print(\"Vértices (papers):\", g_citation.num_vertices())\n",
    "print(\"Arestas (citações):\", g_citation.num_edges())\n"
   ]
  },
  {
   "cell_type": "code",
   "execution_count": null,
   "id": "eeb465d8-e726-4b2f-8453-c10823153971",
   "metadata": {
    "execution": {
     "iopub.execute_input": "2025-03-25T20:40:48.697564Z",
     "iopub.status.busy": "2025-03-25T20:40:48.697259Z",
     "iopub.status.idle": "2025-03-25T20:41:26.378439Z",
     "shell.execute_reply": "2025-03-25T20:41:26.377907Z",
     "shell.execute_reply.started": "2025-03-25T20:40:48.697543Z"
    }
   },
   "outputs": [
    {
     "data": {
      "text/html": [
       "\n",
       "        <div id=\"Mn4pMTJtGKnXWxeuKaAadC\"></div>\n",
       "        <script>netpixi.render('Mn4pMTJtGKnXWxeuKaAadC', '/static/__shared__/Projeto/papers_citation_100.net.gz', 1.7777777777777777, true, true, false, true);</script>\n",
       "    "
      ],
      "text/plain": [
       "<IPython.core.display.HTML object>"
      ]
     },
     "metadata": {},
     "output_type": "display_data"
    },
    {
     "data": {
      "text/plain": [
       "<netpixi.Render at 0x7f09d10a12b0>"
      ]
     },
     "execution_count": 19,
     "metadata": {},
     "output_type": "execute_result"
    }
   ],
   "source": [
    "vsize = g_citation.new_vertex_property(\"double\")\n",
    "for v in g_citation.vertices():\n",
    "    vsize[v] = 5  \n",
    "g_citation.vertex_properties[\"size\"] = vsize\n",
    "\n",
    "epw = g_citation.new_edge_property(\"double\")\n",
    "for e in g_citation.edges():\n",
    "    epw[e] = 0.5  \n",
    "g_citation.edge_properties[\"penwidth\"] = epw\n",
    "\n",
    "layout_citation = draw.sfdp_layout(g_citation)\n",
    "gte.move(g_citation, layout_citation)\n",
    "\n",
    "\n",
    "gte.save(g_citation, 'papers_citation_100.net.gz')\n",
    "\n",
    "render_obj = netpixi.render('papers_citation_100.net.gz', infinite=True)\n",
    "render_obj\n"
   ]
  },
  {
   "cell_type": "code",
   "execution_count": null,
   "id": "85b24624-8457-4e2b-8d86-4ffff4c60cec",
   "metadata": {
    "execution": {
     "iopub.execute_input": "2025-03-25T20:41:38.596417Z",
     "iopub.status.busy": "2025-03-25T20:41:38.596048Z",
     "iopub.status.idle": "2025-03-25T20:41:39.766527Z",
     "shell.execute_reply": "2025-03-25T20:41:39.764927Z",
     "shell.execute_reply.started": "2025-03-25T20:41:38.596383Z"
    },
    "scrolled": true
   },
   "outputs": [
    {
     "data": {
      "text/html": [
       "\n",
       "        <div id=\"DN5dGJEZfnNN4e545u44dP\"></div>\n",
       "        <script>netpixi.render('DN5dGJEZfnNN4e545u44dP', '/static/__shared__/Projeto/papers_citation_100.net.gz', 1.7777777777777777, true, true, false, true);</script>\n",
       "    "
      ],
      "text/plain": [
       "<IPython.core.display.HTML object>"
      ]
     },
     "metadata": {},
     "output_type": "display_data"
    },
    {
     "data": {
      "text/plain": [
       "<netpixi.Render at 0x7f0a9e5da340>"
      ]
     },
     "execution_count": 20,
     "metadata": {},
     "output_type": "execute_result"
    }
   ],
   "source": [
    "g_citation = gte.clean(g_citation)\n",
    "\n",
    "vsize = g_citation.new_vertex_property(\"double\")\n",
    "for v in g_citation.vertices():\n",
    "    vsize[v] = 5 \n",
    "g_citation.vertex_properties[\"size\"] = vsize\n",
    "\n",
    "epw = g_citation.new_edge_property(\"double\")\n",
    "for e in g_citation.edges():\n",
    "    epw[e] = 0.5 \n",
    "g_citation.edge_properties[\"penwidth\"] = epw\n",
    "\n",
    "layout_citation = draw.sfdp_layout(g_citation)\n",
    "gte.move(g_citation, layout_citation)\n",
    "\n",
    "gte.save(g_citation, 'papers_citation_100.net.gz')\n",
    "netpixi.render('papers_citation_100.net.gz', infinite=True)\n"
   ]
  },
  {
   "cell_type": "code",
   "execution_count": null,
   "id": "8e3f4518-0e46-45c7-9b29-3d7d1f354ea9",
   "metadata": {
    "execution": {
     "iopub.execute_input": "2025-03-25T20:41:40.545434Z",
     "iopub.status.busy": "2025-03-25T20:41:40.545113Z",
     "iopub.status.idle": "2025-03-25T20:41:41.622946Z",
     "shell.execute_reply": "2025-03-25T20:41:41.621986Z",
     "shell.execute_reply.started": "2025-03-25T20:41:40.545405Z"
    }
   },
   "outputs": [
    {
     "data": {
      "text/html": [
       "\n",
       "        <div id=\"i5NWHu2ajkUBztn5VFx2Tr\"></div>\n",
       "        <script>netpixi.render('i5NWHu2ajkUBztn5VFx2Tr', '/static/__shared__/Projeto/papers_citation_degree_manual.net.gz', 1.7777777777777777, true, true, false, true);</script>\n",
       "    "
      ],
      "text/plain": [
       "<IPython.core.display.HTML object>"
      ]
     },
     "metadata": {},
     "output_type": "display_data"
    },
    {
     "data": {
      "text/plain": [
       "<netpixi.Render at 0x7f09d10edfd0>"
      ]
     },
     "execution_count": 21,
     "metadata": {},
     "output_type": "execute_result"
    }
   ],
   "source": [
    "import graph_tool.draw as draw\n",
    "import graph_tool_extras as gte\n",
    "import netpixi\n",
    "\n",
    "\n",
    "g_citation = gte.load('papers_citation_100.net.gz')\n",
    "\n",
    "size_prop = g_citation.new_vertex_property(\"double\")\n",
    "\n",
    "for v in g_citation.vertices():\n",
    "    deg = v.in_degree() + v.out_degree()\n",
    "    size_prop[v] = deg * 2 + 5  \n",
    "\n",
    "\n",
    "g_citation.vp[\"size\"] = size_prop\n",
    "\n",
    "\n",
    "layout_citation = draw.sfdp_layout(g_citation)\n",
    "gte.move(g_citation, layout_citation)\n",
    "\n",
    "gte.save(g_citation, 'papers_citation_degree_manual.net.gz')\n",
    "\n",
    "r = netpixi.render('papers_citation_degree_manual.net.gz', infinite=True)\n",
    "r\n"
   ]
  },
  {
   "cell_type": "code",
   "execution_count": null,
   "id": "c98add88-7eb9-47fe-a31e-7125067d3510",
   "metadata": {
    "execution": {
     "iopub.execute_input": "2025-03-25T20:41:42.214496Z",
     "iopub.status.busy": "2025-03-25T20:41:42.214177Z",
     "iopub.status.idle": "2025-03-25T20:41:43.072715Z",
     "shell.execute_reply": "2025-03-25T20:41:43.071919Z",
     "shell.execute_reply.started": "2025-03-25T20:41:42.214469Z"
    }
   },
   "outputs": [
    {
     "data": {
      "text/html": [
       "\n",
       "        <div id=\"gPsbjFtBEGvLKHWYnoG6AA\"></div>\n",
       "        <script>netpixi.render('gPsbjFtBEGvLKHWYnoG6AA', '/static/__shared__/Projeto/papers_citation_betweenness.net.gz', 1.7777777777777777, true, true, false, true);</script>\n",
       "    "
      ],
      "text/plain": [
       "<IPython.core.display.HTML object>"
      ]
     },
     "metadata": {},
     "output_type": "display_data"
    },
    {
     "data": {
      "text/plain": [
       "<netpixi.Render at 0x7f09c96c4b90>"
      ]
     },
     "execution_count": 22,
     "metadata": {},
     "output_type": "execute_result"
    }
   ],
   "source": [
    "from graph_tool.centrality import betweenness\n",
    "import graph_tool.draw as draw\n",
    "import graph_tool_extras as gte\n",
    "import netpixi\n",
    "\n",
    "g_citation = gte.load('papers_citation_100.net.gz')\n",
    "\n",
    "betw_map, _ = betweenness(g_citation)\n",
    "\n",
    "size_prop = g_citation.new_vertex_property(\"double\")\n",
    "\n",
    "for v in g_citation.vertices():\n",
    "    val = betw_map[v]\n",
    "    size_prop[v] = val * 1_000_000 + 5\n",
    "\n",
    "g_citation.vp[\"size\"] = size_prop\n",
    "\n",
    "layout_citation = draw.sfdp_layout(g_citation)\n",
    "gte.move(g_citation, layout_citation)\n",
    "\n",
    "gte.save(g_citation, 'papers_citation_betweenness.net.gz')\n",
    "r = netpixi.render('papers_citation_betweenness.net.gz', infinite=True)\n",
    "r\n"
   ]
  },
  {
   "cell_type": "code",
   "execution_count": null,
   "id": "eec26048-7cfc-4506-abed-e09bd222cc89",
   "metadata": {
    "execution": {
     "iopub.execute_input": "2025-03-25T20:41:43.480350Z",
     "iopub.status.busy": "2025-03-25T20:41:43.480096Z",
     "iopub.status.idle": "2025-03-25T20:41:44.498796Z",
     "shell.execute_reply": "2025-03-25T20:41:44.497965Z",
     "shell.execute_reply.started": "2025-03-25T20:41:43.480332Z"
    }
   },
   "outputs": [
    {
     "data": {
      "text/html": [
       "\n",
       "        <div id=\"GcNkuCKKFeemuYWfTKayfT\"></div>\n",
       "        <script>netpixi.render('GcNkuCKKFeemuYWfTKayfT', '/static/__shared__/Projeto/papers_citation_closeness.net.gz', 1.7777777777777777, true, true, false, true);</script>\n",
       "    "
      ],
      "text/plain": [
       "<IPython.core.display.HTML object>"
      ]
     },
     "metadata": {},
     "output_type": "display_data"
    },
    {
     "data": {
      "text/plain": [
       "<netpixi.Render at 0x7f09d18c55a0>"
      ]
     },
     "execution_count": 23,
     "metadata": {},
     "output_type": "execute_result"
    }
   ],
   "source": [
    "from graph_tool.centrality import closeness\n",
    "import math\n",
    "import graph_tool.draw as draw\n",
    "import graph_tool_extras as gte\n",
    "import netpixi\n",
    "\n",
    "\n",
    "g_citation = gte.load('papers_citation_100.net.gz')\n",
    "\n",
    "clos_map = closeness(g_citation)\n",
    "\n",
    "\n",
    "size_prop = g_citation.new_vertex_property(\"double\")\n",
    "\n",
    "for v in g_citation.vertices():\n",
    "    val = clos_map[v]\n",
    "    if math.isinf(val) or math.isnan(val):\n",
    "        size_prop[v] = 5.0\n",
    "    else:\n",
    "        size_prop[v] = val * 20 + 5\n",
    "\n",
    "g_citation.vp[\"size\"] = size_prop\n",
    "\n",
    "layout_citation = draw.sfdp_layout(g_citation)\n",
    "gte.move(g_citation, layout_citation)\n",
    "\n",
    "gte.save(g_citation, 'papers_citation_closeness.net.gz')\n",
    "r = netpixi.render('papers_citation_closeness.net.gz', infinite=True)\n",
    "r\n"
   ]
  },
  {
   "cell_type": "code",
   "execution_count": null,
   "id": "f7df1d7b-048e-4904-b3b4-f303d73a6e58",
   "metadata": {
    "execution": {
     "iopub.execute_input": "2025-03-25T20:41:44.830497Z",
     "iopub.status.busy": "2025-03-25T20:41:44.830230Z",
     "iopub.status.idle": "2025-03-25T20:41:45.923448Z",
     "shell.execute_reply": "2025-03-25T20:41:45.922010Z",
     "shell.execute_reply.started": "2025-03-25T20:41:44.830478Z"
    }
   },
   "outputs": [
    {
     "data": {
      "text/html": [
       "\n",
       "        <div id=\"ZydEuPT2uuUid7ppPqvg78\"></div>\n",
       "        <script>netpixi.render('ZydEuPT2uuUid7ppPqvg78', '/static/__shared__/Projeto/papers_citation_constraint.net.gz', 1.7777777777777777, true, true, false, true);</script>\n",
       "    "
      ],
      "text/plain": [
       "<IPython.core.display.HTML object>"
      ]
     },
     "metadata": {},
     "output_type": "display_data"
    },
    {
     "data": {
      "text/plain": [
       "<netpixi.Render at 0x7f09d18c71d0>"
      ]
     },
     "execution_count": 24,
     "metadata": {},
     "output_type": "execute_result"
    }
   ],
   "source": [
    "import graph_tool.draw as draw\n",
    "import graph_tool_extras as gte\n",
    "import netpixi\n",
    "\n",
    "def compute_burt_constraint(g):\n",
    "    c_values = []\n",
    "    for v in g.vertices():\n",
    "        neighbors_v = list(v.out_neighbors())\n",
    "        dv = len(neighbors_v)\n",
    "        \n",
    "        if dv == 0:\n",
    "            c_values.append(0.0)\n",
    "            continue\n",
    "        \n",
    "        p = {}\n",
    "        for j in neighbors_v:\n",
    "            p[j] = 1.0 / dv\n",
    "        \n",
    "        total_constraint = 0.0\n",
    "        \n",
    "        for j in neighbors_v:\n",
    "            sum_q = 0.0\n",
    "            for q in neighbors_v:\n",
    "                if q == j:\n",
    "                    continue\n",
    "                if j in q.out_neighbors():\n",
    "                    dq = q.out_degree()\n",
    "                    p_qj = 1.0/dq if dq > 0 else 0.0\n",
    "                else:\n",
    "                    p_qj = 0.0\n",
    "                sum_q += p[q] * p_qj\n",
    "            total_constraint += (p[j] + sum_q)**2\n",
    "        \n",
    "        c_values.append(total_constraint)\n",
    "    \n",
    "    return c_values\n",
    "\n",
    "g_citation = gte.load(\"papers_citation_100.net.gz\")\n",
    "\n",
    "constraint_vals = compute_burt_constraint(g_citation)\n",
    "\n",
    "size_prop = g_citation.new_vertex_property(\"double\")\n",
    "\n",
    "for v, cval in zip(g_citation.vertices(), constraint_vals):\n",
    "    size_prop[v] = cval * 12 + 5\n",
    "\n",
    "g_citation.vp[\"size\"] = size_prop\n",
    "\n",
    "layout_citation = draw.sfdp_layout(g_citation)\n",
    "gte.move(g_citation, layout_citation)\n",
    "\n",
    "gte.save(g_citation, \"papers_citation_constraint.net.gz\")\n",
    "r = netpixi.render(\"papers_citation_constraint.net.gz\", infinite=True)\n",
    "r\n"
   ]
  },
  {
   "cell_type": "code",
   "execution_count": null,
   "id": "384d49ba-1f3c-4eae-9a8e-93f3c42f7546",
   "metadata": {
    "execution": {
     "iopub.execute_input": "2025-03-25T20:41:46.272289Z",
     "iopub.status.busy": "2025-03-25T20:41:46.272005Z",
     "iopub.status.idle": "2025-03-25T20:41:47.199943Z",
     "shell.execute_reply": "2025-03-25T20:41:47.198973Z",
     "shell.execute_reply.started": "2025-03-25T20:41:46.272269Z"
    }
   },
   "outputs": [
    {
     "data": {
      "text/html": [
       "\n",
       "        <div id=\"kaJYqKWZH5nDRjy5qjJPqw\"></div>\n",
       "        <script>netpixi.render('kaJYqKWZH5nDRjy5qjJPqw', '/static/__shared__/Projeto/papers_citation_continuo.net.gz', 1.7777777777777777, true, true, false, true);</script>\n",
       "    "
      ],
      "text/plain": [
       "<IPython.core.display.HTML object>"
      ]
     },
     "metadata": {},
     "output_type": "display_data"
    },
    {
     "data": {
      "text/plain": [
       "<netpixi.Render at 0x7f09d11de3f0>"
      ]
     },
     "execution_count": 25,
     "metadata": {},
     "output_type": "execute_result"
    }
   ],
   "source": [
    "import graph_tool.draw as draw\n",
    "import graph_tool.centrality as gt_c\n",
    "import graph_tool_extras as gte\n",
    "import netpixi\n",
    "\n",
    "g_citation = gte.load(\"papers_citation_100.net.gz\")\n",
    "\n",
    "pagerank_map = gt_c.pagerank(g_citation)\n",
    "\n",
    "size_prop = g_citation.new_vertex_property(\"double\")\n",
    "\n",
    "for v in g_citation.vertices():\n",
    "    val = pagerank_map[v]\n",
    "    size_prop[v] = val * 10 + 5\n",
    "\n",
    "g_citation.vp[\"size\"] = size_prop\n",
    "\n",
    "layout_citation = draw.sfdp_layout(g_citation)\n",
    "gte.move(g_citation, layout_citation)\n",
    "\n",
    "gte.save(g_citation, \"papers_citation_continuo.net.gz\")\n",
    "r = netpixi.render(\"papers_citation_continuo.net.gz\", infinite=True)\n",
    "r\n"
   ]
  },
  {
   "cell_type": "code",
   "execution_count": null,
   "id": "45dec1db-0ef9-465c-b436-b8b3682c5669",
   "metadata": {
    "execution": {
     "iopub.execute_input": "2025-03-25T20:41:47.471524Z",
     "iopub.status.busy": "2025-03-25T20:41:47.471220Z",
     "iopub.status.idle": "2025-03-25T20:41:48.467088Z",
     "shell.execute_reply": "2025-03-25T20:41:48.465949Z",
     "shell.execute_reply.started": "2025-03-25T20:41:47.471502Z"
    }
   },
   "outputs": [
    {
     "data": {
      "text/html": [
       "\n",
       "        <div id=\"kGyc4sy7nxJE7kPPRBNvbn\"></div>\n",
       "        <script>netpixi.render('kGyc4sy7nxJE7kPPRBNvbn', '/static/__shared__/Projeto/papers_citation_discreto.net.gz', 1.7777777777777777, true, true, false, true);</script>\n",
       "    "
      ],
      "text/plain": [
       "<IPython.core.display.HTML object>"
      ]
     },
     "metadata": {},
     "output_type": "display_data"
    },
    {
     "data": {
      "text/plain": [
       "<netpixi.Render at 0x7f09d11ddbd0>"
      ]
     },
     "execution_count": 26,
     "metadata": {},
     "output_type": "execute_result"
    }
   ],
   "source": [
    "import graph_tool.topology as top\n",
    "import graph_tool.draw as draw\n",
    "import graph_tool_extras as gte\n",
    "import netpixi\n",
    "\n",
    "\n",
    "g_citation = gte.load(\"papers_citation_100.net.gz\")\n",
    "\n",
    "kcore_vals = top.kcore_decomposition(g_citation)\n",
    "\n",
    "size_prop = g_citation.new_vertex_property(\"double\")\n",
    "\n",
    "for v in g_citation.vertices():\n",
    "    size_prop[v] = kcore_vals[v] * 18 + 5\n",
    "\n",
    "g_citation.vp[\"size\"] = size_prop\n",
    "\n",
    "layout_citation = draw.sfdp_layout(g_citation)\n",
    "gte.move(g_citation, layout_citation)\n",
    "\n",
    "gte.save(g_citation, \"papers_citation_discreto.net.gz\")\n",
    "r = netpixi.render(\"papers_citation_discreto.net.gz\", infinite=True)\n",
    "r\n"
   ]
  },
  {
   "cell_type": "code",
   "execution_count": null,
   "id": "8faa0e04-63ff-4e2d-98fb-fffaa0ed6143",
   "metadata": {
    "execution": {
     "iopub.execute_input": "2025-03-25T20:41:48.961886Z",
     "iopub.status.busy": "2025-03-25T20:41:48.961559Z",
     "iopub.status.idle": "2025-03-25T20:41:49.487511Z",
     "shell.execute_reply": "2025-03-25T20:41:49.485955Z",
     "shell.execute_reply.started": "2025-03-25T20:41:48.961831Z"
    },
    "scrolled": true
   },
   "outputs": [
    {
     "data": {
      "image/png": "[encoded data removed]",
      "text/plain": [
       "<Figure size 640x480 with 1 Axes>"
      ]
     },
     "metadata": {},
     "output_type": "display_data"
    }
   ],
   "source": [
    "import graph_tool_extras as gte\n",
    "import matplotlib.pyplot as plt\n",
    "\n",
    "g_citation = gte.load(\"papers_citation_100.net.gz\")\n",
    "\n",
    "degrees = [v.out_degree() for v in g_citation.vertices()]\n",
    "\n",
    "if len(degrees) == 0:\n",
    "    print(\"Nenhum vértice no grafo para analisar.\")\n",
    "else:\n",
    "    min_deg, max_deg = min(degrees), max(degrees)\n",
    "    plt.hist(degrees, bins=range(min_deg, max_deg + 2), density=True)\n",
    "    plt.title(\"Distribuição Normalizada de Grau (out_degree)\")\n",
    "    plt.xlabel(\"Grau\")\n",
    "    plt.ylabel(\"Frequência Relativa\")\n",
    "    plt.grid(True, linestyle=':', alpha=0.7)\n",
    "    plt.tight_layout()\n",
    "    \n",
    "    plt.savefig(\"distribuicao_outdegree.png\", dpi=300, bbox_inches='tight')\n",
    "    plt.show()\n"
   ]
  },
  {
   "cell_type": "code",
   "execution_count": null,
   "id": "6e7c617e-101f-4240-b015-bbef2ea268fc",
   "metadata": {
    "execution": {
     "iopub.execute_input": "2025-03-25T20:46:08.140527Z",
     "iopub.status.busy": "2025-03-25T20:46:08.140158Z",
     "iopub.status.idle": "2025-03-25T20:46:09.290182Z",
     "shell.execute_reply": "2025-03-25T20:46:09.289149Z",
     "shell.execute_reply.started": "2025-03-25T20:46:08.140506Z"
    }
   },
   "outputs": [
    {
     "name": "stdout",
     "output_type": "stream",
     "text": [
      "Top 10 nós por grau:\n",
      "Paper ID: temp_124 - Grau: 61.0\n",
      "Paper ID: temp_366 - Grau: 40.0\n",
      "Paper ID: temp_406 - Grau: 35.0\n",
      "Paper ID: temp_73 - Grau: 19.0\n",
      "Paper ID: temp_132 - Grau: 16.0\n",
      "Paper ID: temp_352 - Grau: 15.0\n",
      "Paper ID: temp_196 - Grau: 14.0\n",
      "Paper ID: temp_391 - Grau: 13.0\n",
      "Paper ID: temp_365 - Grau: 11.0\n",
      "Paper ID: temp_393 - Grau: 10.0\n"
     ]
    },
    {
     "data": {
      "text/html": [
       "\n",
       "        <div id=\"BPbqVf83hSGcNnbJLaS4is\"></div>\n",
       "        <script>netpixi.render('BPbqVf83hSGcNnbJLaS4is', '/static/__shared__/Projeto/papers_citation_degree_withid.net.gz', 1.7777777777777777, true, true, false, true);</script>\n",
       "    "
      ],
      "text/plain": [
       "<IPython.core.display.HTML object>"
      ]
     },
     "metadata": {},
     "output_type": "display_data"
    },
    {
     "data": {
      "text/plain": [
       "<netpixi.Render at 0x7f0a9ef752e0>"
      ]
     },
     "execution_count": 29,
     "metadata": {},
     "output_type": "execute_result"
    }
   ],
   "source": [
    "import graph_tool_extras as gte\n",
    "import netpixi\n",
    "import graph_tool.draw as draw\n",
    "\n",
    "g_citation = gte.load('papers_citation_100.net.gz')\n",
    "\n",
    "if \"paper_id\" in g_citation.vp:\n",
    "    paper_id_prop = g_citation.vp[\"paper_id\"]\n",
    "else:\n",
    "    paper_id_prop = g_citation.new_vertex_property(\"string\")\n",
    "    for i, v in enumerate(g_citation.vertices()):\n",
    "        paper_id_prop[v] = f\"temp_{i}\"\n",
    "    g_citation.vp[\"paper_id\"] = paper_id_prop\n",
    "\n",
    "degree_prop = g_citation.new_vertex_property(\"double\")\n",
    "for v in g_citation.vertices():\n",
    "    degree_prop[v] = v.in_degree() + v.out_degree()\n",
    "\n",
    "g_citation.vp[\"degree\"] = degree_prop\n",
    "\n",
    "sorted_by_degree = sorted(g_citation.vertices(), \n",
    "                          key=lambda vert: degree_prop[vert],\n",
    "                          reverse=True)\n",
    "\n",
    "print(\"Top 10 nós por grau:\")\n",
    "for v in sorted_by_degree[:10]:\n",
    "    print(f\"Paper ID: {paper_id_prop[v]} - Grau: {degree_prop[v]}\")\n",
    "\n",
    "layout = draw.sfdp_layout(g_citation)\n",
    "gte.move(g_citation, layout)\n",
    "\n",
    "\n",
    "gte.save(g_citation, 'papers_citation_degree_withid.net.gz')\n",
    "\n",
    "r = netpixi.render('papers_citation_degree_withid.net.gz', infinite=True)\n",
    "r\n"
   ]
  },
  {
   "cell_type": "code",
   "execution_count": null,
   "id": "60607695-24cc-4a4a-82db-928bb26dbe54",
   "metadata": {
    "execution": {
     "iopub.execute_input": "2025-03-25T20:48:39.489732Z",
     "iopub.status.busy": "2025-03-25T20:48:39.489419Z",
     "iopub.status.idle": "2025-03-25T20:48:39.572178Z",
     "shell.execute_reply": "2025-03-25T20:48:39.570474Z",
     "shell.execute_reply.started": "2025-03-25T20:48:39.489713Z"
    }
   },
   "outputs": [
    {
     "name": "stdout",
     "output_type": "stream",
     "text": [
      "Top 5 por Degree:\n",
      " temp_124  (degree=61.0)\n",
      " temp_366  (degree=40.0)\n",
      " temp_406  (degree=35.0)\n",
      " temp_73  (degree=19.0)\n",
      " temp_132  (degree=16.0)\n",
      "\n",
      "Top 5 por Betweenness:\n",
      " temp_396  (betw=9.181586745127498e-05)\n",
      " temp_73  (betw=7.512207336922499e-05)\n",
      " temp_137  (betw=7.094862484871248e-05)\n",
      " temp_21  (betw=4.1734485205125e-05)\n",
      " temp_207  (betw=3.3387588164099995e-05)\n",
      "\n",
      "Top 5 por Closeness:\n",
      " temp_0  (clos=1.0)\n",
      " temp_1  (clos=1.0)\n",
      " temp_2  (clos=1.0)\n",
      " temp_3  (clos=1.0)\n",
      " temp_4  (clos=1.0)\n",
      "\n",
      "Top 5 por PageRank:\n",
      " temp_124  (pagerank=0.059987826279008546)\n",
      " temp_366  (pagerank=0.04232622668373393)\n",
      " temp_406  (pagerank=0.036382830718410406)\n",
      " temp_429  (pagerank=0.023297702635674333)\n",
      " temp_73  (pagerank=0.016261365725605735)\n",
      "\n",
      "Top 5 por K-Core:\n",
      " temp_15  (kcore=2)\n",
      " temp_21  (kcore=2)\n",
      " temp_22  (kcore=2)\n",
      " temp_25  (kcore=2)\n",
      " temp_42  (kcore=2)\n",
      "\n",
      "Aparecem no TOP 5 de (Degree, Betweenness, Closeness, PageRank): set()\n"
     ]
    }
   ],
   "source": [
    "import graph_tool_extras as gte\n",
    "import graph_tool.draw as draw\n",
    "import netpixi\n",
    "\n",
    "from graph_tool.centrality import betweenness, closeness, pagerank\n",
    "from graph_tool.topology import kcore_decomposition\n",
    "\n",
    "g_citation = gte.load('papers_citation_100.net.gz')\n",
    "\n",
    "if \"paper_id\" in g_citation.vp:\n",
    "    paper_id_prop = g_citation.vp[\"paper_id\"]\n",
    "else:\n",
    "    paper_id_prop = g_citation.new_vertex_property(\"string\")\n",
    "    for i, v in enumerate(g_citation.vertices()):\n",
    "        paper_id_prop[v] = f\"temp_{i}\"\n",
    "    g_citation.vp[\"paper_id\"] = paper_id_prop\n",
    "\n",
    "\n",
    "degree_prop = g_citation.new_vertex_property(\"double\")\n",
    "for v in g_citation.vertices():\n",
    "    degree_prop[v] = v.in_degree() + v.out_degree()\n",
    "\n",
    "\n",
    "betw_prop, _ = betweenness(g_citation)\n",
    "clos_prop = closeness(g_citation)\n",
    "page_prop = pagerank(g_citation)\n",
    "kcore_prop = kcore_decomposition(g_citation)\n",
    "\n",
    "\n",
    "def top5_sorted(vert_prop):\n",
    "    \"\"\"Retorna os vértices ordenados decrescentemente por vert_prop\"\"\"\n",
    "    return sorted(g_citation.vertices(), key=lambda v: vert_prop[v], reverse=True)[:5]\n",
    "\n",
    "top5_deg = top5_sorted(degree_prop)\n",
    "top5_betw = top5_sorted(betw_prop)\n",
    "top5_clos = top5_sorted(clos_prop)\n",
    "top5_page = top5_sorted(page_prop)\n",
    "top5_kcore = top5_sorted(kcore_prop)\n",
    "\n",
    "print(\"Top 5 por Degree:\")\n",
    "for v in top5_deg:\n",
    "    print(f\" {paper_id_prop[v]}  (degree={degree_prop[v]})\")\n",
    "\n",
    "print(\"\\nTop 5 por Betweenness:\")\n",
    "for v in top5_betw:\n",
    "    print(f\" {paper_id_prop[v]}  (betw={betw_prop[v]})\")\n",
    "\n",
    "print(\"\\nTop 5 por Closeness:\")\n",
    "for v in top5_clos:\n",
    "    print(f\" {paper_id_prop[v]}  (clos={clos_prop[v]})\")\n",
    "\n",
    "print(\"\\nTop 5 por PageRank:\")\n",
    "for v in top5_page:\n",
    "    print(f\" {paper_id_prop[v]}  (pagerank={page_prop[v]})\")\n",
    "\n",
    "print(\"\\nTop 5 por K-Core:\")\n",
    "for v in top5_kcore:\n",
    "    print(f\" {paper_id_prop[v]}  (kcore={kcore_prop[v]})\")\n",
    "\n",
    "deg_ids = {paper_id_prop[v] for v in top5_deg}\n",
    "betw_ids = {paper_id_prop[v] for v in top5_betw}\n",
    "clos_ids = {paper_id_prop[v] for v in top5_clos}\n",
    "page_ids = {paper_id_prop[v] for v in top5_page}\n",
    "\n",
    "common_any = deg_ids & betw_ids & clos_ids & page_ids\n",
    "print(\"\\nAparecem no TOP 5 de (Degree, Betweenness, Closeness, PageRank):\", common_any)\n"
   ]
  },
  {
   "cell_type": "code",
   "execution_count": null,
   "id": "6257f211-e10f-4913-b401-b88ecdc345f7",
   "metadata": {
    "execution": {
     "iopub.execute_input": "2025-03-25T20:50:21.553398Z",
     "iopub.status.busy": "2025-03-25T20:50:21.553062Z",
     "iopub.status.idle": "2025-03-25T20:50:21.602894Z",
     "shell.execute_reply": "2025-03-25T20:50:21.601453Z",
     "shell.execute_reply.started": "2025-03-25T20:50:21.553379Z"
    }
   },
   "outputs": [
    {
     "name": "stdout",
     "output_type": "stream",
     "text": [
      "Top 10 vértices com maior betweenness (possíveis pontes):\n",
      "Vértice 396 -- betw: 9.181586745127498e-05\n",
      "Vértice 73 -- betw: 7.512207336922499e-05\n",
      "Vértice 137 -- betw: 7.094862484871248e-05\n",
      "Vértice 21 -- betw: 4.1734485205125e-05\n",
      "Vértice 207 -- betw: 3.3387588164099995e-05\n",
      "Vértice 252 -- betw: 2.9214139643587494e-05\n",
      "Vértice 318 -- betw: 2.7127415383331247e-05\n",
      "Vértice 109 -- betw: 2.5040691123074996e-05\n",
      "Vértice 144 -- betw: 2.5040691123074996e-05\n",
      "Vértice 321 -- betw: 2.5040691123074996e-05\n"
     ]
    }
   ],
   "source": [
    "import graph_tool_extras as gte\n",
    "from graph_tool.centrality import betweenness\n",
    "\n",
    "g_citation = gte.load('papers_citation_100.net.gz')\n",
    "betw_map, _ = betweenness(g_citation)\n",
    "sorted_by_betw = sorted(g_citation.vertices(), key=lambda v: betw_map[v], reverse=True)\n",
    "\n",
    "print(\"Top 10 vértices com maior betweenness (possíveis pontes):\")\n",
    "for v in sorted_by_betw[:10]:\n",
    "    print(f\"Vértice {int(v)} -- betw: {betw_map[v]}\")  \n"
   ]
  },
  {
   "cell_type": "code",
   "execution_count": null,
   "id": "4aab104d-e7ac-4963-8b3d-48f05684c8de",
   "metadata": {
    "execution": {
     "iopub.execute_input": "2025-03-25T20:50:31.256932Z",
     "iopub.status.busy": "2025-03-25T20:50:31.256619Z",
     "iopub.status.idle": "2025-03-25T20:50:31.464832Z",
     "shell.execute_reply": "2025-03-25T20:50:31.463429Z",
     "shell.execute_reply.started": "2025-03-25T20:50:31.256913Z"
    }
   },
   "outputs": [
    {
     "name": "stdout",
     "output_type": "stream",
     "text": [
      "Distribuição de k-core:\n",
      "k=1: 396 nós\n",
      "k=2: 95 nós\n"
     ]
    },
    {
     "data": {
      "image/png": "[encoded data removed]",
      "text/plain": [
       "<Figure size 640x480 with 1 Axes>"
      ]
     },
     "metadata": {},
     "output_type": "display_data"
    }
   ],
   "source": [
    "import graph_tool_extras as gte\n",
    "import matplotlib.pyplot as plt\n",
    "from graph_tool.topology import kcore_decomposition\n",
    "\n",
    "g_citation = gte.load(\"papers_citation_100.net.gz\")\n",
    "kcore_prop = kcore_decomposition(g_citation)\n",
    "kcores = [kcore_prop[v] for v in g_citation.vertices()]\n",
    "\n",
    "freq = {}\n",
    "for k in kcores:\n",
    "    freq[k] = freq.get(k, 0) + 1\n",
    "\n",
    "print(\"Distribuição de k-core:\")\n",
    "for k, count in sorted(freq.items()):\n",
    "    print(f\"k={k}: {count} nós\")\n",
    "\n",
    "plt.hist(kcores, bins=range(int(min(kcores)), int(max(kcores)+2)), alpha=0.7)\n",
    "plt.title(\"Distribuição de k-core\")\n",
    "plt.xlabel(\"k-core\")\n",
    "plt.ylabel(\"Quantidade de nós\")\n",
    "plt.grid(True, linestyle=':', alpha=0.7)\n",
    "plt.show()\n"
   ]
  },
  {
   "cell_type": "markdown",
   "id": "9628352f-6356-4527-9bb4-be96d3c515b6",
   "metadata": {},
   "source": [
    "## Finalização do grafo"
   ]
  },
  {
   "cell_type": "markdown",
   "id": "0608b9a4-b744-42af-8cd5-3efe3dac450e",
   "metadata": {},
   "source": [
    "Para lembrar os detalhes sobre as bibliotecas e funções, reveja o quarto e quinto notebooks da Aula 3."
   ]
  },
  {
   "cell_type": "code",
   "execution_count": 39,
   "id": "2531035e-520b-4c9c-93a0-1d1eb012cbac",
   "metadata": {
    "execution": {
     "iopub.execute_input": "2025-02-26T13:17:14.962135Z",
     "iopub.status.busy": "2025-02-26T13:17:14.961851Z",
     "iopub.status.idle": "2025-02-26T13:17:15.072407Z",
     "shell.execute_reply": "2025-02-26T13:17:15.071768Z",
     "shell.execute_reply.started": "2025-02-26T13:17:14.962115Z"
    }
   },
   "outputs": [
    {
     "data": {
      "text/html": [
       "\n",
       "        <div id=\"eYkjnL8nEpYGwFQQcwA4cM\"></div>\n",
       "        <script>netpixi.render('eYkjnL8nEpYGwFQQcwA4cM', '/static/__shared__/Projeto/papers_citation.net.gz', 1.7777777777777777, true, true, false, true);</script>\n",
       "    "
      ],
      "text/plain": [
       "<IPython.core.display.HTML object>"
      ]
     },
     "metadata": {},
     "output_type": "display_data"
    },
    {
     "data": {
      "text/plain": [
       "<netpixi.Render at 0x7f6f3b3f3930>"
      ]
     },
     "execution_count": 39,
     "metadata": {},
     "output_type": "execute_result"
    }
   ],
   "source": [
    "layout_citation = draw.sfdp_layout(g_citation)\n",
    "gte.move(g_citation, layout_citation)\n",
    "\n",
    "gte.save(g_citation, 'papers_citation_100.net.gz')\n",
    "render_obj = netpixi.render('papers_citation_100.net.gz', infinite=True)\n",
    "render_obj\n"
   ]
  },
  {
   "cell_type": "markdown",
   "id": "24cbb1ab-7bc7-491b-bb3c-cd54f12bd824",
   "metadata": {},
   "source": [
    "## Visualização do grafo"
   ]
  },
  {
   "cell_type": "markdown",
   "id": "4b644f67-b612-4d73-9634-ccaccec5571a",
   "metadata": {},
   "source": [
    "Para lembrar os detalhes sobre as bibliotecas e funções, reveja o quarto e quinto notebooks da Aula 3."
   ]
  },
  {
   "cell_type": "code",
   "execution_count": 25,
   "id": "b6f27fc9-3630-4d9f-b4b6-51078db1c786",
   "metadata": {
    "execution": {
     "iopub.execute_input": "2025-02-26T13:14:35.508950Z",
     "iopub.status.busy": "2025-02-26T13:14:35.508690Z",
     "iopub.status.idle": "2025-02-26T13:14:35.514035Z",
     "shell.execute_reply": "2025-02-26T13:14:35.513078Z",
     "shell.execute_reply.started": "2025-02-26T13:14:35.508926Z"
    }
   },
   "outputs": [],
   "source": [
    "import netpixi"
   ]
  },
  {
   "cell_type": "code",
   "execution_count": 26,
   "id": "402d5a8b-3f5a-4595-8d81-644a0ef3f5d1",
   "metadata": {
    "execution": {
     "iopub.execute_input": "2025-02-26T13:14:36.052075Z",
     "iopub.status.busy": "2025-02-26T13:14:36.051729Z",
     "iopub.status.idle": "2025-02-26T13:14:36.061127Z",
     "shell.execute_reply": "2025-02-26T13:14:36.060109Z",
     "shell.execute_reply.started": "2025-02-26T13:14:36.052051Z"
    }
   },
   "outputs": [
    {
     "data": {
      "text/html": [
       "\n",
       "        <div id=\"6fjmuTq3z3D539wbafkAyq\"></div>\n",
       "        <script>netpixi.render('6fjmuTq3z3D539wbafkAyq', '/static/__shared__/Projeto/papers_citation.net.gz', 1.7777777777777777, true, false, false, true);</script>\n",
       "    "
      ],
      "text/plain": [
       "<IPython.core.display.HTML object>"
      ]
     },
     "metadata": {},
     "output_type": "display_data"
    }
   ],
   "source": [
    "netpixi.render('papers_citation.net.gz');"
   ]
  },
  {
   "cell_type": "markdown",
   "id": "83a89b4c",
   "metadata": {},
   "source": [
    "<div class=\"alert alert-block alert-info\">\n",
    "   <strong>DICA:</strong> Você pode clicar na aba\n",
    "   <img style=\"vertical-align: middle\" src=\"attachment:20cd3d92-3cca-4d4c-a4f2-1f2a61958c34.png\" alt\"toc.png\">\n",
    "   à esquerda para navegar por seção.\n",
    "</div>"
   ]
  }
 ],
 "metadata": {
  "kernelspec": {
   "display_name": "Python 3 (ipykernel)",
   "language": "python",
   "name": "python3"
  },
  "language_info": {
   "codemirror_mode": {
    "name": "ipython",
    "version": 3
   },
   "file_extension": ".py",
   "mimetype": "text/x-python",
   "name": "python",
   "nbconvert_exporter": "python",
   "pygments_lexer": "ipython3",
   "version": "3.13.1"
  }
 },
 "nbformat": 4,
 "nbformat_minor": 5
}
